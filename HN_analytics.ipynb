{
 "cells": [
  {
   "cell_type": "markdown",
   "metadata": {
    "collapsed": true
   },
   "source": [
    "# Hacker News Analytics\n",
    "\n",
    "Hacker News (HN) is a online forum for voting and commenting on user submitted articles.\n",
    "\n",
    "Hacker News is highly appreciated in technology and in start-up circles, which leads to hundreds and thousands of visitors being listed there.\n",
    "\n",
    "The goal of this project is to find out if Ask HN (posts to ask the Hacker News community a specific question) and Show HN (posts to show the Hacker News community a project, product, or just generally something interesting) receive more comments on average.\n",
    "\n",
    "We also would like to understand if some posts at a certain time receive more comments on average."
   ]
  },
  {
   "cell_type": "code",
   "execution_count": 3,
   "metadata": {},
   "outputs": [
    {
     "name": "stdout",
     "output_type": "stream",
     "text": [
      "[['id', 'title', 'url', 'num_points', 'num_comments', 'author', 'created_at'], ['12224879', 'Interactive Dynamic Video', 'http://www.interactivedynamicvideo.com/', '386', '52', 'ne0phyte', '8/4/2016 11:52'], ['10975351', 'How to Use Open Source and Shut the Fuck Up at the Same Time', 'http://hueniverse.com/2016/01/26/how-to-use-open-source-and-shut-the-fuck-up-at-the-same-time/', '39', '10', 'josep2', '1/26/2016 19:30'], ['11964716', \"Florida DJs May Face Felony for April Fools' Water Joke\", 'http://www.thewire.com/entertainment/2013/04/florida-djs-april-fools-water-joke/63798/', '2', '1', 'vezycash', '6/23/2016 22:20'], ['11919867', 'Technology ventures: From Idea to Enterprise', 'https://www.amazon.com/Technology-Ventures-Enterprise-Thomas-Byers/dp/0073523429', '3', '1', 'hswarna', '6/17/2016 0:01']]\n"
     ]
    }
   ],
   "source": [
    "from csv import reader\n",
    "\n",
    "# call HN threads dataset \n",
    "opened_file = open('hacker_news.csv')\n",
    "read_file = reader(opened_file)\n",
    "hn = list(read_file)\n",
    "print(hn[0:5])"
   ]
  },
  {
   "cell_type": "markdown",
   "metadata": {},
   "source": [
    "## Data pre-processing\n",
    "\n",
    "It is always a good practice to format the data before start."
   ]
  },
  {
   "cell_type": "code",
   "execution_count": 6,
   "metadata": {},
   "outputs": [
    {
     "name": "stdout",
     "output_type": "stream",
     "text": [
      "['10975351', 'How to Use Open Source and Shut the Fuck Up at the Same Time', 'http://hueniverse.com/2016/01/26/how-to-use-open-source-and-shut-the-fuck-up-at-the-same-time/', '39', '10', 'josep2', '1/26/2016 19:30']\n",
      "[['11964716', \"Florida DJs May Face Felony for April Fools' Water Joke\", 'http://www.thewire.com/entertainment/2013/04/florida-djs-april-fools-water-joke/63798/', '2', '1', 'vezycash', '6/23/2016 22:20'], ['11919867', 'Technology ventures: From Idea to Enterprise', 'https://www.amazon.com/Technology-Ventures-Enterprise-Thomas-Byers/dp/0073523429', '3', '1', 'hswarna', '6/17/2016 0:01'], ['10301696', 'Note by Note: The Making of Steinway L1037 (2007)', 'http://www.nytimes.com/2007/11/07/movies/07stein.html?_r=0', '8', '2', 'walterbell', '9/30/2015 4:12'], ['10482257', 'Title II kills investment? Comcast and other ISPs are now spending more', 'http://arstechnica.com/business/2015/10/comcast-and-other-isps-boost-network-investment-despite-net-neutrality/', '53', '22', 'Deinos', '10/31/2015 9:48']]\n"
     ]
    }
   ],
   "source": [
    "# Remove headers from data set\n",
    "headers = hn[0]\n",
    "hn = hn[1:]\n",
    "print(headers)\n",
    "print(hn[0:4])"
   ]
  },
  {
   "cell_type": "code",
   "execution_count": 19,
   "metadata": {},
   "outputs": [
    {
     "name": "stdout",
     "output_type": "stream",
     "text": [
      "Number of posts - Ask): 1744\n",
      "Number of posts - Show): 1162\n",
      "Number of posts - Other): 1744\n"
     ]
    }
   ],
   "source": [
    "# Segregate 'Ask HN' and 'Show HN' threads from data set\n",
    "ask_posts = []\n",
    "show_posts = []\n",
    "other_posts = []\n",
    "\n",
    "for row in hn:\n",
    "    title = row[1]\n",
    "    title = title.lower()\n",
    "    if title.startswith('ask hn'):\n",
    "        ask_posts.append(row)\n",
    "    elif title.startswith('show hn'):\n",
    "        show_posts.append(row)\n",
    "    else:\n",
    "        other_posts.append(row)\n",
    "        \n",
    "print('Number of posts - Ask):', len(ask_posts))\n",
    "print('Number of posts - Show):', len(show_posts))\n",
    "print('Number of posts - Other):', len(ask_posts))\n"
   ]
  },
  {
   "cell_type": "markdown",
   "metadata": {},
   "source": [
    "## Data analysis\n",
    "\n",
    "Now let's start to extract some insights from data."
   ]
  },
  {
   "cell_type": "code",
   "execution_count": 31,
   "metadata": {},
   "outputs": [
    {
     "name": "stdout",
     "output_type": "stream",
     "text": [
      "14.038417431192661\n",
      "10.31669535283993\n"
     ]
    }
   ],
   "source": [
    "# determine if ask posts or show posts receive more comments on average\n",
    "total_ask_comments = 0\n",
    "for row in ask_posts:\n",
    "    ncomm = row[4]\n",
    "    ncomm = int(ncomm)\n",
    "    total_ask_comments = total_ask_comments + ncomm\n",
    "    \n",
    "avg_ask_comments = total_ask_comments/len(ask_posts)\n",
    "print(avg_ask_comments)\n",
    "\n",
    "total_show_comments = 0\n",
    "for row in show_posts:\n",
    "    ncomm = row[4]\n",
    "    ncomm = int(ncomm)\n",
    "    total_show_comments = total_show_comments + ncomm\n",
    "    \n",
    "avg_show_comments = total_show_comments/len(show_posts)\n",
    "print(avg_show_comments)"
   ]
  },
  {
   "cell_type": "markdown",
   "metadata": {},
   "source": [
    "As we can see from previous results, Ask posts receive more comments (on average) than Show posts. \n",
    "\n",
    "Since Ask posts are more likely to receive comments, we'll focus our remaining analysis just on these posts."
   ]
  },
  {
   "cell_type": "code",
   "execution_count": 89,
   "metadata": {},
   "outputs": [],
   "source": [
    "import datetime as dt\n",
    "\n",
    "# calculate the amount of Ask posts and comments by hour created\n",
    "result_list =[]\n",
    "\n",
    "for row in ask_posts:\n",
    "    result_list.append([row[6],int(row[4])])\n",
    "\n",
    "posts_by_hour = {}  # number of Ask posts created during each hour of the day                  \n",
    "comments_by_hour = {} # number of comments of Ask posts created at each hour\n",
    "\n",
    "for row in result_list:\n",
    "    date_str = row[0]\n",
    "    ncomm = row[1]\n",
    "    date = dt.datetime.strptime(date_str, \"%m/%d/%Y %H:%M\")\n",
    "    time = dt.datetime.strftime(date,\"%H\")\n",
    "    if time not in posts_by_hour:\n",
    "        posts_by_hour[time] = 1\n",
    "        comments_by_hour[time] = ncomm\n",
    "    else:\n",
    "        posts_by_hour[time] += 1\n",
    "        comments_by_hour[time] += ncomm\n",
    "    \n"
   ]
  },
  {
   "cell_type": "code",
   "execution_count": 91,
   "metadata": {},
   "outputs": [],
   "source": [
    "# calculate the average number of comments per post for posts created during each hour of the day\n",
    "avg_by_hour = []\n",
    "\n",
    "for hour in comments_by_hour:\n",
    "    avg_by_hour.append([hour, comments_by_hour[hour]/posts_by_hour[hour]])\n",
    "    \n"
   ]
  },
  {
   "cell_type": "code",
   "execution_count": 98,
   "metadata": {},
   "outputs": [
    {
     "name": "stdout",
     "output_type": "stream",
     "text": [
      "Top 5 Hours for Ask Posts Comments\n",
      "15:00: 38.59 average comments per post\n",
      "02:00: 23.81 average comments per post\n",
      "20:00: 21.52 average comments per post\n",
      "16:00: 16.80 average comments per post\n",
      "21:00: 16.01 average comments per post\n"
     ]
    }
   ],
   "source": [
    "swap_avg_by_hour = []\n",
    "\n",
    "for row in avg_by_hour:\n",
    "    swap_avg_by_hour.append([row[1], row[0]])\n",
    "    \n",
    "sorted_swap = sorted(swap_avg_by_hour, reverse=True)\n",
    "\n",
    "print(\"Top 5 Hours for Ask Posts Comments\")\n",
    "for avg, hr in sorted_swap[:5]:\n",
    "    print(\n",
    "        \"{}: {:.2f} average comments per post\".format(\n",
    "            dt.datetime.strptime(hr, \"%H\").strftime(\"%H:%M\"),avg\n",
    "        )\n",
    "    )\n",
    "    \n",
    "    "
   ]
  },
  {
   "cell_type": "markdown",
   "metadata": {},
   "source": [
    "## Conclusion\n",
    "\n",
    "In this task we wanted to find out if Ask HN (posts to ask the Hacker News community a specific question) and Show HN (posts to show the Hacker News community a project, product, or just generally something interesting) receive more comments on average.\n",
    "\n",
    "To support the decision, we gather information from a sample of 300,000 rows by removing all submissions that did not receive any comments, and then randomly sampling from the remaining 20,000 submissions. \n",
    "\n",
    "First we segregated the data set to acommodate our needs. After we analyzed the numbers of which types of posts were available there and which are the their averages.\n",
    "\n",
    "Analysis showed that Ask-posts were predominant ans therefore we focused on them. Then, we calculated the amount of Ask-posts and comments by hour created. At the end we could verify that (on average) at 15:00hs (3:00 pm) there are more comments per post. 16:00hs (4:00 pm) was the fourth pplace in the Top 5 rank which suggests the timeframe between 3:00 pm and 4:00 pm as the most productive period during the day.\n",
    "\n",
    "This analysis is not exhaustive since it would be interesting to undestand what topic or area is the most upvoted and commented in order to produce more traffic by"
   ]
  }
 ],
 "metadata": {
  "kernelspec": {
   "display_name": "Python 3",
   "language": "python",
   "name": "python3"
  },
  "language_info": {
   "codemirror_mode": {
    "name": "ipython",
    "version": 3
   },
   "file_extension": ".py",
   "mimetype": "text/x-python",
   "name": "python",
   "nbconvert_exporter": "python",
   "pygments_lexer": "ipython3",
   "version": "3.8.5"
  }
 },
 "nbformat": 4,
 "nbformat_minor": 2
}
