{
 "cells": [
  {
   "cell_type": "markdown",
   "metadata": {},
   "source": [
    "# Time series analysis with R "
   ]
  },
  {
   "cell_type": "markdown",
   "metadata": {},
   "source": [
    "The objective of this mini-project is to select the most important features in a dataset, aggregate and transform them into time series to obtain some information like:\n",
    "\n",
    "- Is there a trend?\n",
    "- Is there a seasonal pattern?\n",
    "- Are the time series stationary?\n",
    "\n",
    "For this task, we will use some R libraries namely: Tidyverse (data structures), Lubridate (dates and times), Forecast (time series), and MLmetrics (evaluation)."
   ]
  },
  {
   "cell_type": "code",
   "execution_count": 1,
   "metadata": {},
   "outputs": [
    {
     "name": "stderr",
     "output_type": "stream",
     "text": [
      "-- \u001b[1mAttaching packages\u001b[22m --------------------------------------- tidyverse 1.3.0 --\n",
      "\n",
      "\u001b[32mv\u001b[39m \u001b[34mggplot2\u001b[39m 3.3.2     \u001b[32mv\u001b[39m \u001b[34mpurrr  \u001b[39m 0.3.4\n",
      "\u001b[32mv\u001b[39m \u001b[34mtibble \u001b[39m 3.0.3     \u001b[32mv\u001b[39m \u001b[34mdplyr  \u001b[39m 1.0.2\n",
      "\u001b[32mv\u001b[39m \u001b[34mtidyr  \u001b[39m 1.1.2     \u001b[32mv\u001b[39m \u001b[34mstringr\u001b[39m 1.4.0\n",
      "\u001b[32mv\u001b[39m \u001b[34mreadr  \u001b[39m 1.4.0     \u001b[32mv\u001b[39m \u001b[34mforcats\u001b[39m 0.5.0\n",
      "\n",
      "-- \u001b[1mConflicts\u001b[22m ------------------------------------------ tidyverse_conflicts() --\n",
      "\u001b[31mx\u001b[39m \u001b[34mdplyr\u001b[39m::\u001b[32mfilter()\u001b[39m masks \u001b[34mstats\u001b[39m::filter()\n",
      "\u001b[31mx\u001b[39m \u001b[34mdplyr\u001b[39m::\u001b[32mlag()\u001b[39m    masks \u001b[34mstats\u001b[39m::lag()\n",
      "\n",
      "\n",
      "Attaching package: 'lubridate'\n",
      "\n",
      "\n",
      "The following objects are masked from 'package:base':\n",
      "\n",
      "    date, intersect, setdiff, union\n",
      "\n",
      "\n"
     ]
    }
   ],
   "source": [
    "# Load necessary libraries\n",
    "library(tidyverse)\n",
    "library(lubridate)\n",
    "library(forecast)\n",
    "library(MLmetrics)"
   ]
  },
  {
   "cell_type": "code",
   "execution_count": 2,
   "metadata": {},
   "outputs": [],
   "source": [
    "# Load dataset from CSV file\n",
    "dat <- read.csv('./data/Activities.csv',header = T)"
   ]
  },
  {
   "cell_type": "markdown",
   "metadata": {},
   "source": [
    "Before start, let's get acquainted with the dataset."
   ]
  },
  {
   "cell_type": "code",
   "execution_count": 3,
   "metadata": {},
   "outputs": [
    {
     "data": {
      "text/html": [
       "<table>\n",
       "<caption>A data.frame: 10 × 89</caption>\n",
       "<thead>\n",
       "\t<tr><th></th><th scope=col>activityId</th><th scope=col>uuidMsb</th><th scope=col>uuidLsb</th><th scope=col>name</th><th scope=col>activityType</th><th scope=col>userProfileId</th><th scope=col>timeZoneId</th><th scope=col>beginTimestamp</th><th scope=col>eventTypeId</th><th scope=col>rule</th><th scope=col>...</th><th scope=col>maxFtp</th><th scope=col>workoutId</th><th scope=col>decoDive</th><th scope=col>parentId</th><th scope=col>avgVerticalSpeed</th><th scope=col>maxDepth</th><th scope=col>avgDepth</th><th scope=col>surfaceInterval</th><th scope=col>floorsDescended</th><th scope=col>bottomTime</th></tr>\n",
       "\t<tr><th></th><th scope=col>&lt;dbl&gt;</th><th scope=col>&lt;dbl&gt;</th><th scope=col>&lt;dbl&gt;</th><th scope=col>&lt;chr&gt;</th><th scope=col>&lt;chr&gt;</th><th scope=col>&lt;int&gt;</th><th scope=col>&lt;int&gt;</th><th scope=col>&lt;dbl&gt;</th><th scope=col>&lt;int&gt;</th><th scope=col>&lt;chr&gt;</th><th scope=col>...</th><th scope=col>&lt;int&gt;</th><th scope=col>&lt;dbl&gt;</th><th scope=col>&lt;lgl&gt;</th><th scope=col>&lt;dbl&gt;</th><th scope=col>&lt;int&gt;</th><th scope=col>&lt;int&gt;</th><th scope=col>&lt;int&gt;</th><th scope=col>&lt;int&gt;</th><th scope=col>&lt;int&gt;</th><th scope=col>&lt;int&gt;</th></tr>\n",
       "</thead>\n",
       "<tbody>\n",
       "\t<tr><th scope=row>1</th><td>5570974040</td><td> 3.695224e+18</td><td>-7.098507e+18</td><td>En piscine         </td><td>lap_swimming</td><td>1141258</td><td>124</td><td>1.600700e+12</td><td>9</td><td>public</td><td>...</td><td>NA</td><td>NA</td><td>NA</td><td>NA</td><td>NA</td><td>NA</td><td>NA</td><td>NA</td><td>NA</td><td>NA</td></tr>\n",
       "\t<tr><th scope=row>2</th><td>5566524321</td><td>-5.212790e+18</td><td>-8.140623e+18</td><td>Vienna Cyclisme    </td><td>cycling     </td><td>1141258</td><td>124</td><td>1.600602e+12</td><td>9</td><td>public</td><td>...</td><td>NA</td><td>NA</td><td>NA</td><td>NA</td><td>NA</td><td>NA</td><td>NA</td><td>NA</td><td>NA</td><td>NA</td></tr>\n",
       "\t<tr><th scope=row>3</th><td>5561266034</td><td> 1.271356e+18</td><td>-5.522844e+18</td><td>Korneuburg Cyclisme</td><td>cycling     </td><td>1141258</td><td>124</td><td>1.600523e+12</td><td>9</td><td>public</td><td>...</td><td>NA</td><td>NA</td><td>NA</td><td>NA</td><td>NA</td><td>NA</td><td>NA</td><td>NA</td><td>NA</td><td>NA</td></tr>\n",
       "\t<tr><th scope=row>4</th><td>5555881653</td><td>-2.923938e+18</td><td>-4.676832e+18</td><td>Vienna Course      </td><td>running     </td><td>1141258</td><td>124</td><td>1.600439e+12</td><td>9</td><td>public</td><td>...</td><td>NA</td><td>NA</td><td>NA</td><td>NA</td><td>NA</td><td>NA</td><td>NA</td><td>NA</td><td>NA</td><td>NA</td></tr>\n",
       "\t<tr><th scope=row>5</th><td>5551811953</td><td> 7.859043e+18</td><td>-7.909532e+18</td><td>Zwift - London     </td><td>virtual_ride</td><td>1141258</td><td>124</td><td>1.600362e+12</td><td>9</td><td>public</td><td>...</td><td>NA</td><td>NA</td><td>NA</td><td>NA</td><td>NA</td><td>NA</td><td>NA</td><td>NA</td><td>NA</td><td>NA</td></tr>\n",
       "\t<tr><th scope=row>6</th><td>5551052200</td><td>-9.554086e+17</td><td>-6.866435e+18</td><td>En piscine         </td><td>lap_swimming</td><td>1141258</td><td>124</td><td>1.600353e+12</td><td>9</td><td>public</td><td>...</td><td>NA</td><td>NA</td><td>NA</td><td>NA</td><td>NA</td><td>NA</td><td>NA</td><td>NA</td><td>NA</td><td>NA</td></tr>\n",
       "\t<tr><th scope=row>7</th><td>5546748362</td><td>-6.097008e+17</td><td>-4.744764e+18</td><td>Vienna Cyclisme    </td><td>cycling     </td><td>1141258</td><td>124</td><td>1.600268e+12</td><td>9</td><td>public</td><td>...</td><td>NA</td><td>NA</td><td>NA</td><td>NA</td><td>NA</td><td>NA</td><td>NA</td><td>NA</td><td>NA</td><td>NA</td></tr>\n",
       "\t<tr><th scope=row>8</th><td>5536334368</td><td> 2.618674e+18</td><td>-5.247854e+18</td><td>Vienna Course      </td><td>running     </td><td>1141258</td><td>124</td><td>1.600098e+12</td><td>9</td><td>public</td><td>...</td><td>NA</td><td>NA</td><td>NA</td><td>NA</td><td>NA</td><td>NA</td><td>NA</td><td>NA</td><td>NA</td><td>NA</td></tr>\n",
       "\t<tr><th scope=row>9</th><td>5531207798</td><td> 1.442874e+18</td><td>-8.432684e+18</td><td>Vienna Cyclisme    </td><td>cycling     </td><td>1141258</td><td>124</td><td>1.600000e+12</td><td>9</td><td>public</td><td>...</td><td>NA</td><td>NA</td><td>NA</td><td>NA</td><td>NA</td><td>NA</td><td>NA</td><td>NA</td><td>NA</td><td>NA</td></tr>\n",
       "\t<tr><th scope=row>10</th><td>5529118286</td><td> 2.319511e+18</td><td>-8.917582e+18</td><td>En piscine         </td><td>lap_swimming</td><td>1141258</td><td>124</td><td>1.599984e+12</td><td>9</td><td>public</td><td>...</td><td>NA</td><td>NA</td><td>NA</td><td>NA</td><td>NA</td><td>NA</td><td>NA</td><td>NA</td><td>NA</td><td>NA</td></tr>\n",
       "</tbody>\n",
       "</table>\n"
      ],
      "text/latex": [
       "A data.frame: 10 × 89\n",
       "\\begin{tabular}{r|lllllllllllllllllllll}\n",
       "  & activityId & uuidMsb & uuidLsb & name & activityType & userProfileId & timeZoneId & beginTimestamp & eventTypeId & rule & ... & maxFtp & workoutId & decoDive & parentId & avgVerticalSpeed & maxDepth & avgDepth & surfaceInterval & floorsDescended & bottomTime\\\\\n",
       "  & <dbl> & <dbl> & <dbl> & <chr> & <chr> & <int> & <int> & <dbl> & <int> & <chr> & ... & <int> & <dbl> & <lgl> & <dbl> & <int> & <int> & <int> & <int> & <int> & <int>\\\\\n",
       "\\hline\n",
       "\t1 & 5570974040 &  3.695224e+18 & -7.098507e+18 & En piscine          & lap\\_swimming & 1141258 & 124 & 1.600700e+12 & 9 & public & ... & NA & NA & NA & NA & NA & NA & NA & NA & NA & NA\\\\\n",
       "\t2 & 5566524321 & -5.212790e+18 & -8.140623e+18 & Vienna Cyclisme     & cycling      & 1141258 & 124 & 1.600602e+12 & 9 & public & ... & NA & NA & NA & NA & NA & NA & NA & NA & NA & NA\\\\\n",
       "\t3 & 5561266034 &  1.271356e+18 & -5.522844e+18 & Korneuburg Cyclisme & cycling      & 1141258 & 124 & 1.600523e+12 & 9 & public & ... & NA & NA & NA & NA & NA & NA & NA & NA & NA & NA\\\\\n",
       "\t4 & 5555881653 & -2.923938e+18 & -4.676832e+18 & Vienna Course       & running      & 1141258 & 124 & 1.600439e+12 & 9 & public & ... & NA & NA & NA & NA & NA & NA & NA & NA & NA & NA\\\\\n",
       "\t5 & 5551811953 &  7.859043e+18 & -7.909532e+18 & Zwift - London      & virtual\\_ride & 1141258 & 124 & 1.600362e+12 & 9 & public & ... & NA & NA & NA & NA & NA & NA & NA & NA & NA & NA\\\\\n",
       "\t6 & 5551052200 & -9.554086e+17 & -6.866435e+18 & En piscine          & lap\\_swimming & 1141258 & 124 & 1.600353e+12 & 9 & public & ... & NA & NA & NA & NA & NA & NA & NA & NA & NA & NA\\\\\n",
       "\t7 & 5546748362 & -6.097008e+17 & -4.744764e+18 & Vienna Cyclisme     & cycling      & 1141258 & 124 & 1.600268e+12 & 9 & public & ... & NA & NA & NA & NA & NA & NA & NA & NA & NA & NA\\\\\n",
       "\t8 & 5536334368 &  2.618674e+18 & -5.247854e+18 & Vienna Course       & running      & 1141258 & 124 & 1.600098e+12 & 9 & public & ... & NA & NA & NA & NA & NA & NA & NA & NA & NA & NA\\\\\n",
       "\t9 & 5531207798 &  1.442874e+18 & -8.432684e+18 & Vienna Cyclisme     & cycling      & 1141258 & 124 & 1.600000e+12 & 9 & public & ... & NA & NA & NA & NA & NA & NA & NA & NA & NA & NA\\\\\n",
       "\t10 & 5529118286 &  2.319511e+18 & -8.917582e+18 & En piscine          & lap\\_swimming & 1141258 & 124 & 1.599984e+12 & 9 & public & ... & NA & NA & NA & NA & NA & NA & NA & NA & NA & NA\\\\\n",
       "\\end{tabular}\n"
      ],
      "text/markdown": [
       "\n",
       "A data.frame: 10 × 89\n",
       "\n",
       "| <!--/--> | activityId &lt;dbl&gt; | uuidMsb &lt;dbl&gt; | uuidLsb &lt;dbl&gt; | name &lt;chr&gt; | activityType &lt;chr&gt; | userProfileId &lt;int&gt; | timeZoneId &lt;int&gt; | beginTimestamp &lt;dbl&gt; | eventTypeId &lt;int&gt; | rule &lt;chr&gt; | ... ... | maxFtp &lt;int&gt; | workoutId &lt;dbl&gt; | decoDive &lt;lgl&gt; | parentId &lt;dbl&gt; | avgVerticalSpeed &lt;int&gt; | maxDepth &lt;int&gt; | avgDepth &lt;int&gt; | surfaceInterval &lt;int&gt; | floorsDescended &lt;int&gt; | bottomTime &lt;int&gt; |\n",
       "|---|---|---|---|---|---|---|---|---|---|---|---|---|---|---|---|---|---|---|---|---|---|\n",
       "| 1 | 5570974040 |  3.695224e+18 | -7.098507e+18 | En piscine          | lap_swimming | 1141258 | 124 | 1.600700e+12 | 9 | public | ... | NA | NA | NA | NA | NA | NA | NA | NA | NA | NA |\n",
       "| 2 | 5566524321 | -5.212790e+18 | -8.140623e+18 | Vienna Cyclisme     | cycling      | 1141258 | 124 | 1.600602e+12 | 9 | public | ... | NA | NA | NA | NA | NA | NA | NA | NA | NA | NA |\n",
       "| 3 | 5561266034 |  1.271356e+18 | -5.522844e+18 | Korneuburg Cyclisme | cycling      | 1141258 | 124 | 1.600523e+12 | 9 | public | ... | NA | NA | NA | NA | NA | NA | NA | NA | NA | NA |\n",
       "| 4 | 5555881653 | -2.923938e+18 | -4.676832e+18 | Vienna Course       | running      | 1141258 | 124 | 1.600439e+12 | 9 | public | ... | NA | NA | NA | NA | NA | NA | NA | NA | NA | NA |\n",
       "| 5 | 5551811953 |  7.859043e+18 | -7.909532e+18 | Zwift - London      | virtual_ride | 1141258 | 124 | 1.600362e+12 | 9 | public | ... | NA | NA | NA | NA | NA | NA | NA | NA | NA | NA |\n",
       "| 6 | 5551052200 | -9.554086e+17 | -6.866435e+18 | En piscine          | lap_swimming | 1141258 | 124 | 1.600353e+12 | 9 | public | ... | NA | NA | NA | NA | NA | NA | NA | NA | NA | NA |\n",
       "| 7 | 5546748362 | -6.097008e+17 | -4.744764e+18 | Vienna Cyclisme     | cycling      | 1141258 | 124 | 1.600268e+12 | 9 | public | ... | NA | NA | NA | NA | NA | NA | NA | NA | NA | NA |\n",
       "| 8 | 5536334368 |  2.618674e+18 | -5.247854e+18 | Vienna Course       | running      | 1141258 | 124 | 1.600098e+12 | 9 | public | ... | NA | NA | NA | NA | NA | NA | NA | NA | NA | NA |\n",
       "| 9 | 5531207798 |  1.442874e+18 | -8.432684e+18 | Vienna Cyclisme     | cycling      | 1141258 | 124 | 1.600000e+12 | 9 | public | ... | NA | NA | NA | NA | NA | NA | NA | NA | NA | NA |\n",
       "| 10 | 5529118286 |  2.319511e+18 | -8.917582e+18 | En piscine          | lap_swimming | 1141258 | 124 | 1.599984e+12 | 9 | public | ... | NA | NA | NA | NA | NA | NA | NA | NA | NA | NA |\n",
       "\n"
      ],
      "text/plain": [
       "   activityId uuidMsb       uuidLsb       name                activityType\n",
       "1  5570974040  3.695224e+18 -7.098507e+18 En piscine          lap_swimming\n",
       "2  5566524321 -5.212790e+18 -8.140623e+18 Vienna Cyclisme     cycling     \n",
       "3  5561266034  1.271356e+18 -5.522844e+18 Korneuburg Cyclisme cycling     \n",
       "4  5555881653 -2.923938e+18 -4.676832e+18 Vienna Course       running     \n",
       "5  5551811953  7.859043e+18 -7.909532e+18 Zwift - London      virtual_ride\n",
       "6  5551052200 -9.554086e+17 -6.866435e+18 En piscine          lap_swimming\n",
       "7  5546748362 -6.097008e+17 -4.744764e+18 Vienna Cyclisme     cycling     \n",
       "8  5536334368  2.618674e+18 -5.247854e+18 Vienna Course       running     \n",
       "9  5531207798  1.442874e+18 -8.432684e+18 Vienna Cyclisme     cycling     \n",
       "10 5529118286  2.319511e+18 -8.917582e+18 En piscine          lap_swimming\n",
       "   userProfileId timeZoneId beginTimestamp eventTypeId rule   ... maxFtp\n",
       "1  1141258       124        1.600700e+12   9           public ... NA    \n",
       "2  1141258       124        1.600602e+12   9           public ... NA    \n",
       "3  1141258       124        1.600523e+12   9           public ... NA    \n",
       "4  1141258       124        1.600439e+12   9           public ... NA    \n",
       "5  1141258       124        1.600362e+12   9           public ... NA    \n",
       "6  1141258       124        1.600353e+12   9           public ... NA    \n",
       "7  1141258       124        1.600268e+12   9           public ... NA    \n",
       "8  1141258       124        1.600098e+12   9           public ... NA    \n",
       "9  1141258       124        1.600000e+12   9           public ... NA    \n",
       "10 1141258       124        1.599984e+12   9           public ... NA    \n",
       "   workoutId decoDive parentId avgVerticalSpeed maxDepth avgDepth\n",
       "1  NA        NA       NA       NA               NA       NA      \n",
       "2  NA        NA       NA       NA               NA       NA      \n",
       "3  NA        NA       NA       NA               NA       NA      \n",
       "4  NA        NA       NA       NA               NA       NA      \n",
       "5  NA        NA       NA       NA               NA       NA      \n",
       "6  NA        NA       NA       NA               NA       NA      \n",
       "7  NA        NA       NA       NA               NA       NA      \n",
       "8  NA        NA       NA       NA               NA       NA      \n",
       "9  NA        NA       NA       NA               NA       NA      \n",
       "10 NA        NA       NA       NA               NA       NA      \n",
       "   surfaceInterval floorsDescended bottomTime\n",
       "1  NA              NA              NA        \n",
       "2  NA              NA              NA        \n",
       "3  NA              NA              NA        \n",
       "4  NA              NA              NA        \n",
       "5  NA              NA              NA        \n",
       "6  NA              NA              NA        \n",
       "7  NA              NA              NA        \n",
       "8  NA              NA              NA        \n",
       "9  NA              NA              NA        \n",
       "10 NA              NA              NA        "
      ]
     },
     "metadata": {},
     "output_type": "display_data"
    },
    {
     "data": {
      "text/html": [
       "'5514 rows x 89 columns'"
      ],
      "text/latex": [
       "'5514 rows x 89 columns'"
      ],
      "text/markdown": [
       "'5514 rows x 89 columns'"
      ],
      "text/plain": [
       "[1] \"5514 rows x 89 columns\""
      ]
     },
     "metadata": {},
     "output_type": "display_data"
    }
   ],
   "source": [
    "# Print the first ten rows of the dataset with its headers\n",
    "head(dat,10); sprintf(\"% s rows x % s columns\", nrow(dat),  ncol(dat))"
   ]
  },
  {
   "cell_type": "markdown",
   "metadata": {},
   "source": [
    "The dataset has 89 features (columns) and 5514 observations (rows) and is related to sports activities. They were collected with sensors during training. "
   ]
  },
  {
   "cell_type": "markdown",
   "metadata": {},
   "source": [
    "## Data preparation\n",
    "\n",
    "We need to prepare the data for the analysis.\n",
    "\n",
    "- **start_time**: create a new column with the timestamp ina readable format.\n",
    "- **date**: create a new column with the date of the observation (without the activity hour).\n",
    "- **is_bike**: create a new column with a boolean variable to identify biking activity.\n",
    "- **is_run**: create a new column with a boolean variable to identify running activity.\n",
    "- **activity_recorded**: create a new column to identify the activity of each observation.\n",
    "- **qual_distance**: create a new column with a categorical variable to identify the activity's length of each observation.\n",
    "- **qual_avgHR**: create a new column with a categorical variable to identify the heart rate's level of each observation.\n",
    "- **distance**: convert distance from centimeters to kilometers.\n",
    "- **calories**: convert from Joules to calories.\n",
    "- **elevationGain**: convert from centimeters to meters.\n",
    "- **elevationLoss**: convert from centimeters to meters.\n",
    "- **avgSpeed**: convert to km/h.\n",
    "- **maxSpeed**: convert to km/h."
   ]
  },
  {
   "cell_type": "code",
   "execution_count": 4,
   "metadata": {},
   "outputs": [],
   "source": [
    "dat <- dat %>% \n",
    "  mutate(start_time=as_datetime(startTimeLocal/1000), # create a timestamp\n",
    "         date = floor_date(start_time,\"day\"), # round to the day\n",
    "         is_bike=ifelse(activityType %in%\n",
    "                          c(\"cycling\",\"virtual_ride\",\"indoor_cycling\",\"road_biking\",\"cyclocross\"),T,F),\n",
    "         # is it bike or not ?\n",
    "         is_run = str_detect(activityType,\"running|hicking\"),\n",
    "         activity_recorded = case_when(is_bike ~ \"Bike\",\n",
    "                                      is_run ~ \"Run\",\n",
    "                                      str_detect(activityType,\"swim\") ~\"Swim\",\n",
    "                                      TRUE ~ \"Other\")) %>% \n",
    "  mutate(across(c(contains(\"Id\"),contains(\"uuid\")),\n",
    "                as.character)) %>% \n",
    "  mutate(qual_distance=as.character(cut(distance,\n",
    "                                        quantile(distance,probs = 0:5/5,na.rm=T),\n",
    "                                        include.lowest = T,\n",
    "                                        labels=c(\"Very short\",\"Short\",\n",
    "                                                 \"Average\",\"Long\",\"Very long\"))),\n",
    "         qual_avgHr=as.character(cut(avgHr,quantile(avgHr,0:3/5,na.rm = T),\n",
    "                                     include.lowest = T,\n",
    "                                     labels=c(\"Low intensity\",\"Average intensity\",\n",
    "                                              \"High intensity\"))),\n",
    "         qual_distance=ifelse(is.na(qual_distance),\"Very short\",qual_distance),\n",
    "         distance=distance/1E5, # convert in km\n",
    "         calories = calories/4.184) %>% # convert from joules in calories\n",
    "  mutate(across(contains(\"elevation\"),function(xx) xx/1E2))  %>%  # convert toÒ meters\n",
    "  mutate(across(contains(\"Speed\"),function(xx) xx*36))  %>% # convert to km/h\n",
    "  mutate(across(c(duration,contains(\"Duration\")),\n",
    "                function(xx) time_length(xx/1000,\"minutes\")))"
   ]
  },
  {
   "cell_type": "code",
   "execution_count": 5,
   "metadata": {},
   "outputs": [
    {
     "data": {
      "text/html": [
       "<table>\n",
       "<caption>A data.frame: 6 × 96</caption>\n",
       "<thead>\n",
       "\t<tr><th></th><th scope=col>activityId</th><th scope=col>uuidMsb</th><th scope=col>uuidLsb</th><th scope=col>name</th><th scope=col>activityType</th><th scope=col>userProfileId</th><th scope=col>timeZoneId</th><th scope=col>beginTimestamp</th><th scope=col>eventTypeId</th><th scope=col>rule</th><th scope=col>...</th><th scope=col>surfaceInterval</th><th scope=col>floorsDescended</th><th scope=col>bottomTime</th><th scope=col>start_time</th><th scope=col>date</th><th scope=col>is_bike</th><th scope=col>is_run</th><th scope=col>activity_recorded</th><th scope=col>qual_distance</th><th scope=col>qual_avgHr</th></tr>\n",
       "\t<tr><th></th><th scope=col>&lt;chr&gt;</th><th scope=col>&lt;chr&gt;</th><th scope=col>&lt;chr&gt;</th><th scope=col>&lt;chr&gt;</th><th scope=col>&lt;chr&gt;</th><th scope=col>&lt;chr&gt;</th><th scope=col>&lt;chr&gt;</th><th scope=col>&lt;dbl&gt;</th><th scope=col>&lt;chr&gt;</th><th scope=col>&lt;chr&gt;</th><th scope=col>...</th><th scope=col>&lt;int&gt;</th><th scope=col>&lt;int&gt;</th><th scope=col>&lt;int&gt;</th><th scope=col>&lt;dttm&gt;</th><th scope=col>&lt;dttm&gt;</th><th scope=col>&lt;lgl&gt;</th><th scope=col>&lt;lgl&gt;</th><th scope=col>&lt;chr&gt;</th><th scope=col>&lt;chr&gt;</th><th scope=col>&lt;chr&gt;</th></tr>\n",
       "</thead>\n",
       "<tbody>\n",
       "\t<tr><th scope=row>1</th><td>5570974040</td><td>3695223521635878400 </td><td>-7098506714510231552</td><td>En piscine         </td><td>lap_swimming</td><td>1141258</td><td>124</td><td>1.600700e+12</td><td>9</td><td>public</td><td>...</td><td>NA</td><td>NA</td><td>NA</td><td>2020-09-21 17:00:51</td><td>2020-09-21</td><td>FALSE</td><td>FALSE</td><td>Swim</td><td>Short    </td><td>NA               </td></tr>\n",
       "\t<tr><th scope=row>2</th><td>5566524321</td><td>-5212790351453402112</td><td>-8140622953684101120</td><td>Vienna Cyclisme    </td><td>cycling     </td><td>1141258</td><td>124</td><td>1.600602e+12</td><td>9</td><td>public</td><td>...</td><td>NA</td><td>NA</td><td>NA</td><td>2020-09-20 13:37:03</td><td>2020-09-20</td><td> TRUE</td><td>FALSE</td><td>Bike</td><td>Very long</td><td>High intensity   </td></tr>\n",
       "\t<tr><th scope=row>3</th><td>5561266034</td><td>1271355725617447936 </td><td>-5522843681386392576</td><td>Korneuburg Cyclisme</td><td>cycling     </td><td>1141258</td><td>124</td><td>1.600523e+12</td><td>9</td><td>public</td><td>...</td><td>NA</td><td>NA</td><td>NA</td><td>2020-09-19 15:38:41</td><td>2020-09-19</td><td> TRUE</td><td>FALSE</td><td>Bike</td><td>Very long</td><td>Low intensity    </td></tr>\n",
       "\t<tr><th scope=row>4</th><td>5555881653</td><td>-2923937867469140992</td><td>-4676832321872288768</td><td>Vienna Course      </td><td>running     </td><td>1141258</td><td>124</td><td>1.600439e+12</td><td>9</td><td>public</td><td>...</td><td>NA</td><td>NA</td><td>NA</td><td>2020-09-18 16:28:37</td><td>2020-09-18</td><td>FALSE</td><td> TRUE</td><td>Run </td><td>Long     </td><td>NA               </td></tr>\n",
       "\t<tr><th scope=row>5</th><td>5551811953</td><td>7859042982901073920 </td><td>-7909531516612413440</td><td>Zwift - London     </td><td>virtual_ride</td><td>1141258</td><td>124</td><td>1.600362e+12</td><td>9</td><td>public</td><td>...</td><td>NA</td><td>NA</td><td>NA</td><td>2020-09-17 18:55:06</td><td>2020-09-17</td><td> TRUE</td><td>FALSE</td><td>Bike</td><td>Very long</td><td>Average intensity</td></tr>\n",
       "\t<tr><th scope=row>6</th><td>5551052200</td><td>-955408594416025216 </td><td>-6866434522826685440</td><td>En piscine         </td><td>lap_swimming</td><td>1141258</td><td>124</td><td>1.600353e+12</td><td>9</td><td>public</td><td>...</td><td>NA</td><td>NA</td><td>NA</td><td>2020-09-17 16:33:09</td><td>2020-09-17</td><td>FALSE</td><td>FALSE</td><td>Swim</td><td>Short    </td><td>NA               </td></tr>\n",
       "</tbody>\n",
       "</table>\n"
      ],
      "text/latex": [
       "A data.frame: 6 × 96\n",
       "\\begin{tabular}{r|lllllllllllllllllllll}\n",
       "  & activityId & uuidMsb & uuidLsb & name & activityType & userProfileId & timeZoneId & beginTimestamp & eventTypeId & rule & ... & surfaceInterval & floorsDescended & bottomTime & start\\_time & date & is\\_bike & is\\_run & activity\\_recorded & qual\\_distance & qual\\_avgHr\\\\\n",
       "  & <chr> & <chr> & <chr> & <chr> & <chr> & <chr> & <chr> & <dbl> & <chr> & <chr> & ... & <int> & <int> & <int> & <dttm> & <dttm> & <lgl> & <lgl> & <chr> & <chr> & <chr>\\\\\n",
       "\\hline\n",
       "\t1 & 5570974040 & 3695223521635878400  & -7098506714510231552 & En piscine          & lap\\_swimming & 1141258 & 124 & 1.600700e+12 & 9 & public & ... & NA & NA & NA & 2020-09-21 17:00:51 & 2020-09-21 & FALSE & FALSE & Swim & Short     & NA               \\\\\n",
       "\t2 & 5566524321 & -5212790351453402112 & -8140622953684101120 & Vienna Cyclisme     & cycling      & 1141258 & 124 & 1.600602e+12 & 9 & public & ... & NA & NA & NA & 2020-09-20 13:37:03 & 2020-09-20 &  TRUE & FALSE & Bike & Very long & High intensity   \\\\\n",
       "\t3 & 5561266034 & 1271355725617447936  & -5522843681386392576 & Korneuburg Cyclisme & cycling      & 1141258 & 124 & 1.600523e+12 & 9 & public & ... & NA & NA & NA & 2020-09-19 15:38:41 & 2020-09-19 &  TRUE & FALSE & Bike & Very long & Low intensity    \\\\\n",
       "\t4 & 5555881653 & -2923937867469140992 & -4676832321872288768 & Vienna Course       & running      & 1141258 & 124 & 1.600439e+12 & 9 & public & ... & NA & NA & NA & 2020-09-18 16:28:37 & 2020-09-18 & FALSE &  TRUE & Run  & Long      & NA               \\\\\n",
       "\t5 & 5551811953 & 7859042982901073920  & -7909531516612413440 & Zwift - London      & virtual\\_ride & 1141258 & 124 & 1.600362e+12 & 9 & public & ... & NA & NA & NA & 2020-09-17 18:55:06 & 2020-09-17 &  TRUE & FALSE & Bike & Very long & Average intensity\\\\\n",
       "\t6 & 5551052200 & -955408594416025216  & -6866434522826685440 & En piscine          & lap\\_swimming & 1141258 & 124 & 1.600353e+12 & 9 & public & ... & NA & NA & NA & 2020-09-17 16:33:09 & 2020-09-17 & FALSE & FALSE & Swim & Short     & NA               \\\\\n",
       "\\end{tabular}\n"
      ],
      "text/markdown": [
       "\n",
       "A data.frame: 6 × 96\n",
       "\n",
       "| <!--/--> | activityId &lt;chr&gt; | uuidMsb &lt;chr&gt; | uuidLsb &lt;chr&gt; | name &lt;chr&gt; | activityType &lt;chr&gt; | userProfileId &lt;chr&gt; | timeZoneId &lt;chr&gt; | beginTimestamp &lt;dbl&gt; | eventTypeId &lt;chr&gt; | rule &lt;chr&gt; | ... ... | surfaceInterval &lt;int&gt; | floorsDescended &lt;int&gt; | bottomTime &lt;int&gt; | start_time &lt;dttm&gt; | date &lt;dttm&gt; | is_bike &lt;lgl&gt; | is_run &lt;lgl&gt; | activity_recorded &lt;chr&gt; | qual_distance &lt;chr&gt; | qual_avgHr &lt;chr&gt; |\n",
       "|---|---|---|---|---|---|---|---|---|---|---|---|---|---|---|---|---|---|---|---|---|---|\n",
       "| 1 | 5570974040 | 3695223521635878400  | -7098506714510231552 | En piscine          | lap_swimming | 1141258 | 124 | 1.600700e+12 | 9 | public | ... | NA | NA | NA | 2020-09-21 17:00:51 | 2020-09-21 | FALSE | FALSE | Swim | Short     | NA                |\n",
       "| 2 | 5566524321 | -5212790351453402112 | -8140622953684101120 | Vienna Cyclisme     | cycling      | 1141258 | 124 | 1.600602e+12 | 9 | public | ... | NA | NA | NA | 2020-09-20 13:37:03 | 2020-09-20 |  TRUE | FALSE | Bike | Very long | High intensity    |\n",
       "| 3 | 5561266034 | 1271355725617447936  | -5522843681386392576 | Korneuburg Cyclisme | cycling      | 1141258 | 124 | 1.600523e+12 | 9 | public | ... | NA | NA | NA | 2020-09-19 15:38:41 | 2020-09-19 |  TRUE | FALSE | Bike | Very long | Low intensity     |\n",
       "| 4 | 5555881653 | -2923937867469140992 | -4676832321872288768 | Vienna Course       | running      | 1141258 | 124 | 1.600439e+12 | 9 | public | ... | NA | NA | NA | 2020-09-18 16:28:37 | 2020-09-18 | FALSE |  TRUE | Run  | Long      | NA                |\n",
       "| 5 | 5551811953 | 7859042982901073920  | -7909531516612413440 | Zwift - London      | virtual_ride | 1141258 | 124 | 1.600362e+12 | 9 | public | ... | NA | NA | NA | 2020-09-17 18:55:06 | 2020-09-17 |  TRUE | FALSE | Bike | Very long | Average intensity |\n",
       "| 6 | 5551052200 | -955408594416025216  | -6866434522826685440 | En piscine          | lap_swimming | 1141258 | 124 | 1.600353e+12 | 9 | public | ... | NA | NA | NA | 2020-09-17 16:33:09 | 2020-09-17 | FALSE | FALSE | Swim | Short     | NA                |\n",
       "\n"
      ],
      "text/plain": [
       "  activityId uuidMsb              uuidLsb              name               \n",
       "1 5570974040 3695223521635878400  -7098506714510231552 En piscine         \n",
       "2 5566524321 -5212790351453402112 -8140622953684101120 Vienna Cyclisme    \n",
       "3 5561266034 1271355725617447936  -5522843681386392576 Korneuburg Cyclisme\n",
       "4 5555881653 -2923937867469140992 -4676832321872288768 Vienna Course      \n",
       "5 5551811953 7859042982901073920  -7909531516612413440 Zwift - London     \n",
       "6 5551052200 -955408594416025216  -6866434522826685440 En piscine         \n",
       "  activityType userProfileId timeZoneId beginTimestamp eventTypeId rule   ...\n",
       "1 lap_swimming 1141258       124        1.600700e+12   9           public ...\n",
       "2 cycling      1141258       124        1.600602e+12   9           public ...\n",
       "3 cycling      1141258       124        1.600523e+12   9           public ...\n",
       "4 running      1141258       124        1.600439e+12   9           public ...\n",
       "5 virtual_ride 1141258       124        1.600362e+12   9           public ...\n",
       "6 lap_swimming 1141258       124        1.600353e+12   9           public ...\n",
       "  surfaceInterval floorsDescended bottomTime start_time          date      \n",
       "1 NA              NA              NA         2020-09-21 17:00:51 2020-09-21\n",
       "2 NA              NA              NA         2020-09-20 13:37:03 2020-09-20\n",
       "3 NA              NA              NA         2020-09-19 15:38:41 2020-09-19\n",
       "4 NA              NA              NA         2020-09-18 16:28:37 2020-09-18\n",
       "5 NA              NA              NA         2020-09-17 18:55:06 2020-09-17\n",
       "6 NA              NA              NA         2020-09-17 16:33:09 2020-09-17\n",
       "  is_bike is_run activity_recorded qual_distance qual_avgHr       \n",
       "1 FALSE   FALSE  Swim              Short         NA               \n",
       "2  TRUE   FALSE  Bike              Very long     High intensity   \n",
       "3  TRUE   FALSE  Bike              Very long     Low intensity    \n",
       "4 FALSE    TRUE  Run               Long          NA               \n",
       "5  TRUE   FALSE  Bike              Very long     Average intensity\n",
       "6 FALSE   FALSE  Swim              Short         NA               "
      ]
     },
     "metadata": {},
     "output_type": "display_data"
    }
   ],
   "source": [
    "# Check the results\n",
    "# options(repr.matrix.max.cols=150, repr.matrix.max.rows=200)\n",
    "head(dat)"
   ]
  },
  {
   "cell_type": "code",
   "execution_count": 6,
   "metadata": {},
   "outputs": [],
   "source": [
    "# Remove the extreme observations due to error.\n",
    "dat_clean <- filter(dat,!(activityId %in% c(407226313,2321338)) & year(date)>=2012)"
   ]
  },
  {
   "cell_type": "markdown",
   "metadata": {},
   "source": [
    "There are 4 types of activities in the dataset. Since we are interested in _run_ activities let's aggregate on this."
   ]
  },
  {
   "cell_type": "code",
   "execution_count": 7,
   "metadata": {},
   "outputs": [],
   "source": [
    "# Create a new dataset with only running activites\n",
    "dat_run <- filter(dat_clean, is_run)"
   ]
  },
  {
   "cell_type": "code",
   "execution_count": 8,
   "metadata": {},
   "outputs": [
    {
     "data": {
      "text/html": [
       "<table>\n",
       "<caption>A data.frame: 6 × 96</caption>\n",
       "<thead>\n",
       "\t<tr><th></th><th scope=col>activityId</th><th scope=col>uuidMsb</th><th scope=col>uuidLsb</th><th scope=col>name</th><th scope=col>activityType</th><th scope=col>userProfileId</th><th scope=col>timeZoneId</th><th scope=col>beginTimestamp</th><th scope=col>eventTypeId</th><th scope=col>rule</th><th scope=col>...</th><th scope=col>surfaceInterval</th><th scope=col>floorsDescended</th><th scope=col>bottomTime</th><th scope=col>start_time</th><th scope=col>date</th><th scope=col>is_bike</th><th scope=col>is_run</th><th scope=col>activity_recorded</th><th scope=col>qual_distance</th><th scope=col>qual_avgHr</th></tr>\n",
       "\t<tr><th></th><th scope=col>&lt;chr&gt;</th><th scope=col>&lt;chr&gt;</th><th scope=col>&lt;chr&gt;</th><th scope=col>&lt;chr&gt;</th><th scope=col>&lt;chr&gt;</th><th scope=col>&lt;chr&gt;</th><th scope=col>&lt;chr&gt;</th><th scope=col>&lt;dbl&gt;</th><th scope=col>&lt;chr&gt;</th><th scope=col>&lt;chr&gt;</th><th scope=col>...</th><th scope=col>&lt;int&gt;</th><th scope=col>&lt;int&gt;</th><th scope=col>&lt;int&gt;</th><th scope=col>&lt;dttm&gt;</th><th scope=col>&lt;dttm&gt;</th><th scope=col>&lt;lgl&gt;</th><th scope=col>&lt;lgl&gt;</th><th scope=col>&lt;chr&gt;</th><th scope=col>&lt;chr&gt;</th><th scope=col>&lt;chr&gt;</th></tr>\n",
       "</thead>\n",
       "<tbody>\n",
       "\t<tr><th scope=row>1</th><td>5555881653</td><td>-2923937867469140992</td><td>-4676832321872288768</td><td>Vienna Course           </td><td>running</td><td>1141258</td><td>124</td><td>1.600439e+12</td><td>9</td><td>public</td><td>...</td><td>NA</td><td>NA</td><td>NA</td><td>2020-09-18 16:28:37</td><td>2020-09-18</td><td>FALSE</td><td>TRUE</td><td>Run</td><td>Long     </td><td>NA               </td></tr>\n",
       "\t<tr><th scope=row>2</th><td>5536334368</td><td>2618674440708640256 </td><td>-5247853663704855552</td><td>Vienna Course           </td><td>running</td><td>1141258</td><td>124</td><td>1.600098e+12</td><td>9</td><td>public</td><td>...</td><td>NA</td><td>NA</td><td>NA</td><td>2020-09-14 17:45:54</td><td>2020-09-14</td><td>FALSE</td><td>TRUE</td><td>Run</td><td>Average  </td><td>NA               </td></tr>\n",
       "\t<tr><th scope=row>3</th><td>5514773004</td><td>5720120305037689856 </td><td>-7999717304425922560</td><td>Vienna Course           </td><td>running</td><td>1141258</td><td>124</td><td>1.599731e+12</td><td>9</td><td>public</td><td>...</td><td>NA</td><td>NA</td><td>NA</td><td>2020-09-10 11:36:33</td><td>2020-09-10</td><td>FALSE</td><td>TRUE</td><td>Run</td><td>Short    </td><td>Average intensity</td></tr>\n",
       "\t<tr><th scope=row>4</th><td>5492043937</td><td>-358396926660886464 </td><td>-6479663620727600128</td><td>Course Ã  pied          </td><td>running</td><td>1141258</td><td>124</td><td>1.599303e+12</td><td>9</td><td>public</td><td>...</td><td>NA</td><td>NA</td><td>NA</td><td>2020-09-05 12:42:58</td><td>2020-09-05</td><td>FALSE</td><td>TRUE</td><td>Run</td><td>Very long</td><td>NA               </td></tr>\n",
       "\t<tr><th scope=row>5</th><td>5475193778</td><td>-1151351986317211648</td><td>-6879584442126388224</td><td>Vienna - 2020CT_S20_CAP2</td><td>running</td><td>1141258</td><td>124</td><td>1.599035e+12</td><td>9</td><td>public</td><td>...</td><td>NA</td><td>NA</td><td>NA</td><td>2020-09-02 10:15:46</td><td>2020-09-02</td><td>FALSE</td><td>TRUE</td><td>Run</td><td>Short    </td><td>High intensity   </td></tr>\n",
       "\t<tr><th scope=row>6</th><td>5467465948</td><td>2511723179748052480 </td><td>-7894389612466256896</td><td>Vienna - 2020CT_S22_CAP1</td><td>running</td><td>1141258</td><td>124</td><td>1.598890e+12</td><td>9</td><td>public</td><td>...</td><td>NA</td><td>NA</td><td>NA</td><td>2020-08-31 18:12:47</td><td>2020-08-31</td><td>FALSE</td><td>TRUE</td><td>Run</td><td>Long     </td><td>NA               </td></tr>\n",
       "</tbody>\n",
       "</table>\n"
      ],
      "text/latex": [
       "A data.frame: 6 × 96\n",
       "\\begin{tabular}{r|lllllllllllllllllllll}\n",
       "  & activityId & uuidMsb & uuidLsb & name & activityType & userProfileId & timeZoneId & beginTimestamp & eventTypeId & rule & ... & surfaceInterval & floorsDescended & bottomTime & start\\_time & date & is\\_bike & is\\_run & activity\\_recorded & qual\\_distance & qual\\_avgHr\\\\\n",
       "  & <chr> & <chr> & <chr> & <chr> & <chr> & <chr> & <chr> & <dbl> & <chr> & <chr> & ... & <int> & <int> & <int> & <dttm> & <dttm> & <lgl> & <lgl> & <chr> & <chr> & <chr>\\\\\n",
       "\\hline\n",
       "\t1 & 5555881653 & -2923937867469140992 & -4676832321872288768 & Vienna Course            & running & 1141258 & 124 & 1.600439e+12 & 9 & public & ... & NA & NA & NA & 2020-09-18 16:28:37 & 2020-09-18 & FALSE & TRUE & Run & Long      & NA               \\\\\n",
       "\t2 & 5536334368 & 2618674440708640256  & -5247853663704855552 & Vienna Course            & running & 1141258 & 124 & 1.600098e+12 & 9 & public & ... & NA & NA & NA & 2020-09-14 17:45:54 & 2020-09-14 & FALSE & TRUE & Run & Average   & NA               \\\\\n",
       "\t3 & 5514773004 & 5720120305037689856  & -7999717304425922560 & Vienna Course            & running & 1141258 & 124 & 1.599731e+12 & 9 & public & ... & NA & NA & NA & 2020-09-10 11:36:33 & 2020-09-10 & FALSE & TRUE & Run & Short     & Average intensity\\\\\n",
       "\t4 & 5492043937 & -358396926660886464  & -6479663620727600128 & Course Ã  pied           & running & 1141258 & 124 & 1.599303e+12 & 9 & public & ... & NA & NA & NA & 2020-09-05 12:42:58 & 2020-09-05 & FALSE & TRUE & Run & Very long & NA               \\\\\n",
       "\t5 & 5475193778 & -1151351986317211648 & -6879584442126388224 & Vienna - 2020CT\\_S20\\_CAP2 & running & 1141258 & 124 & 1.599035e+12 & 9 & public & ... & NA & NA & NA & 2020-09-02 10:15:46 & 2020-09-02 & FALSE & TRUE & Run & Short     & High intensity   \\\\\n",
       "\t6 & 5467465948 & 2511723179748052480  & -7894389612466256896 & Vienna - 2020CT\\_S22\\_CAP1 & running & 1141258 & 124 & 1.598890e+12 & 9 & public & ... & NA & NA & NA & 2020-08-31 18:12:47 & 2020-08-31 & FALSE & TRUE & Run & Long      & NA               \\\\\n",
       "\\end{tabular}\n"
      ],
      "text/markdown": [
       "\n",
       "A data.frame: 6 × 96\n",
       "\n",
       "| <!--/--> | activityId &lt;chr&gt; | uuidMsb &lt;chr&gt; | uuidLsb &lt;chr&gt; | name &lt;chr&gt; | activityType &lt;chr&gt; | userProfileId &lt;chr&gt; | timeZoneId &lt;chr&gt; | beginTimestamp &lt;dbl&gt; | eventTypeId &lt;chr&gt; | rule &lt;chr&gt; | ... ... | surfaceInterval &lt;int&gt; | floorsDescended &lt;int&gt; | bottomTime &lt;int&gt; | start_time &lt;dttm&gt; | date &lt;dttm&gt; | is_bike &lt;lgl&gt; | is_run &lt;lgl&gt; | activity_recorded &lt;chr&gt; | qual_distance &lt;chr&gt; | qual_avgHr &lt;chr&gt; |\n",
       "|---|---|---|---|---|---|---|---|---|---|---|---|---|---|---|---|---|---|---|---|---|---|\n",
       "| 1 | 5555881653 | -2923937867469140992 | -4676832321872288768 | Vienna Course            | running | 1141258 | 124 | 1.600439e+12 | 9 | public | ... | NA | NA | NA | 2020-09-18 16:28:37 | 2020-09-18 | FALSE | TRUE | Run | Long      | NA                |\n",
       "| 2 | 5536334368 | 2618674440708640256  | -5247853663704855552 | Vienna Course            | running | 1141258 | 124 | 1.600098e+12 | 9 | public | ... | NA | NA | NA | 2020-09-14 17:45:54 | 2020-09-14 | FALSE | TRUE | Run | Average   | NA                |\n",
       "| 3 | 5514773004 | 5720120305037689856  | -7999717304425922560 | Vienna Course            | running | 1141258 | 124 | 1.599731e+12 | 9 | public | ... | NA | NA | NA | 2020-09-10 11:36:33 | 2020-09-10 | FALSE | TRUE | Run | Short     | Average intensity |\n",
       "| 4 | 5492043937 | -358396926660886464  | -6479663620727600128 | Course Ã  pied           | running | 1141258 | 124 | 1.599303e+12 | 9 | public | ... | NA | NA | NA | 2020-09-05 12:42:58 | 2020-09-05 | FALSE | TRUE | Run | Very long | NA                |\n",
       "| 5 | 5475193778 | -1151351986317211648 | -6879584442126388224 | Vienna - 2020CT_S20_CAP2 | running | 1141258 | 124 | 1.599035e+12 | 9 | public | ... | NA | NA | NA | 2020-09-02 10:15:46 | 2020-09-02 | FALSE | TRUE | Run | Short     | High intensity    |\n",
       "| 6 | 5467465948 | 2511723179748052480  | -7894389612466256896 | Vienna - 2020CT_S22_CAP1 | running | 1141258 | 124 | 1.598890e+12 | 9 | public | ... | NA | NA | NA | 2020-08-31 18:12:47 | 2020-08-31 | FALSE | TRUE | Run | Long      | NA                |\n",
       "\n"
      ],
      "text/plain": [
       "  activityId uuidMsb              uuidLsb              name                    \n",
       "1 5555881653 -2923937867469140992 -4676832321872288768 Vienna Course           \n",
       "2 5536334368 2618674440708640256  -5247853663704855552 Vienna Course           \n",
       "3 5514773004 5720120305037689856  -7999717304425922560 Vienna Course           \n",
       "4 5492043937 -358396926660886464  -6479663620727600128 Course Ã  pied          \n",
       "5 5475193778 -1151351986317211648 -6879584442126388224 Vienna - 2020CT_S20_CAP2\n",
       "6 5467465948 2511723179748052480  -7894389612466256896 Vienna - 2020CT_S22_CAP1\n",
       "  activityType userProfileId timeZoneId beginTimestamp eventTypeId rule   ...\n",
       "1 running      1141258       124        1.600439e+12   9           public ...\n",
       "2 running      1141258       124        1.600098e+12   9           public ...\n",
       "3 running      1141258       124        1.599731e+12   9           public ...\n",
       "4 running      1141258       124        1.599303e+12   9           public ...\n",
       "5 running      1141258       124        1.599035e+12   9           public ...\n",
       "6 running      1141258       124        1.598890e+12   9           public ...\n",
       "  surfaceInterval floorsDescended bottomTime start_time          date      \n",
       "1 NA              NA              NA         2020-09-18 16:28:37 2020-09-18\n",
       "2 NA              NA              NA         2020-09-14 17:45:54 2020-09-14\n",
       "3 NA              NA              NA         2020-09-10 11:36:33 2020-09-10\n",
       "4 NA              NA              NA         2020-09-05 12:42:58 2020-09-05\n",
       "5 NA              NA              NA         2020-09-02 10:15:46 2020-09-02\n",
       "6 NA              NA              NA         2020-08-31 18:12:47 2020-08-31\n",
       "  is_bike is_run activity_recorded qual_distance qual_avgHr       \n",
       "1 FALSE   TRUE   Run               Long          NA               \n",
       "2 FALSE   TRUE   Run               Average       NA               \n",
       "3 FALSE   TRUE   Run               Short         Average intensity\n",
       "4 FALSE   TRUE   Run               Very long     NA               \n",
       "5 FALSE   TRUE   Run               Short         High intensity   \n",
       "6 FALSE   TRUE   Run               Long          NA               "
      ]
     },
     "metadata": {},
     "output_type": "display_data"
    },
    {
     "data": {
      "text/html": [
       "'1485 rows x 96 columns'"
      ],
      "text/latex": [
       "'1485 rows x 96 columns'"
      ],
      "text/markdown": [
       "'1485 rows x 96 columns'"
      ],
      "text/plain": [
       "[1] \"1485 rows x 96 columns\""
      ]
     },
     "metadata": {},
     "output_type": "display_data"
    }
   ],
   "source": [
    "# Check the result\n",
    "head(dat_run); sprintf(\"% s rows x % s columns\", nrow(dat_run),  ncol(dat_run))"
   ]
  },
  {
   "cell_type": "markdown",
   "metadata": {},
   "source": [
    "Since our goal is to build time series from the dataset, we need to first identify which features are _numeric_."
   ]
  },
  {
   "cell_type": "code",
   "execution_count": 9,
   "metadata": {},
   "outputs": [
    {
     "data": {
      "text/plain": [
       " beginTimestamp       startTimeGmt       startTimeLocal         duration       \n",
       " Min.   :1.326e+12   Min.   :1.326e+12   Min.   :1.326e+12   Min.   :  0.0248  \n",
       " 1st Qu.:1.395e+12   1st Qu.:1.395e+12   1st Qu.:1.395e+12   1st Qu.: 50.6055  \n",
       " Median :1.464e+12   Median :1.464e+12   Median :1.464e+12   Median : 61.9358  \n",
       " Mean   :1.463e+12   Mean   :1.463e+12   Mean   :1.463e+12   Mean   : 62.3801  \n",
       " 3rd Qu.:1.528e+12   3rd Qu.:1.528e+12   3rd Qu.:1.528e+12   3rd Qu.: 74.0550  \n",
       " Max.   :1.600e+12   Max.   :1.600e+12   Max.   :1.600e+12   Max.   :443.7646  \n",
       "                                                                               \n",
       "    distance      elevationGain     elevationLoss        avgSpeed    \n",
       " Min.   :  0.00   Min.   :    0.0   Min.   :    0.0   Min.   : 0.00  \n",
       " 1st Qu.: 10.02   1st Qu.:   65.0   1st Qu.:   65.8   1st Qu.:11.53  \n",
       " Median : 12.50   Median :  109.0   Median :  112.0   Median :12.18  \n",
       " Mean   : 12.58   Mean   :  376.6   Mean   :  326.8   Mean   :12.10  \n",
       " 3rd Qu.: 14.97   3rd Qu.:  185.0   3rd Qu.:  194.0   3rd Qu.:12.79  \n",
       " Max.   :139.00   Max.   :20696.0   Max.   :20695.5   Max.   :26.82  \n",
       " NA's   :3        NA's   :20        NA's   :20        NA's   :7      \n",
       "    maxSpeed           avgHr           maxHr          calories     \n",
       " Min.   :   0.00   Min.   : 59.0   Min.   : 72.0   Min.   :   0.0  \n",
       " 1st Qu.:  15.82   1st Qu.:146.0   1st Qu.:165.0   1st Qu.: 680.0  \n",
       " Median :  17.79   Median :152.0   Median :172.0   Median : 862.3  \n",
       " Mean   :  25.86   Mean   :150.8   Mean   :172.4   Mean   : 867.5  \n",
       " 3rd Qu.:  21.83   3rd Qu.:157.0   3rd Qu.:180.0   3rd Qu.:1055.2  \n",
       " Max.   :6167.64   Max.   :243.0   Max.   :248.0   Max.   :3924.7  \n",
       " NA's   :12        NA's   :56      NA's   :56      NA's   :7       \n",
       " startLongitude   startLatitude   aerobicTrainingEffect avgFractionalCadence\n",
       " Min.   :-1.561   Min.   :41.61   Min.   :0.200         Min.   :0.0000      \n",
       " 1st Qu.: 2.246   1st Qu.:48.22   1st Qu.:3.000         1st Qu.:0.0000      \n",
       " Median : 2.272   Median :48.81   Median :3.400         Median :0.0000      \n",
       " Mean   : 5.255   Mean   :48.64   Mean   :3.484         Mean   :0.2369      \n",
       " 3rd Qu.: 3.093   3rd Qu.:48.89   3rd Qu.:4.100         3rd Qu.:0.4609      \n",
       " Max.   :19.969   Max.   :55.61   Max.   :5.000         Max.   :0.9922      \n",
       " NA's   :27       NA's   :27      NA's   :134                               \n",
       " maxFractionalCadence elapsedDuration   movingDuration  \n",
       " Min.   :0.0000       Min.   :  5.013   Min.   :  0.00  \n",
       " 1st Qu.:0.0000       1st Qu.: 55.341   1st Qu.: 52.33  \n",
       " Median :0.0000       Median : 65.720   Median : 63.11  \n",
       " Mean   :0.1051       Mean   : 67.474   Mean   : 62.92  \n",
       " 3rd Qu.:0.0000       3rd Qu.: 77.258   3rd Qu.: 72.42  \n",
       " Max.   :0.5000       Max.   :311.026   Max.   :291.77  \n",
       "                      NA's   :841       NA's   :973     \n",
       " anaerobicTrainingEffect minTemperature  maxTemperature   minElevation   \n",
       " Min.   :0.000           Min.   : 3.00   Min.   :17.00   Min.   :-324.0  \n",
       " 1st Qu.:0.000           1st Qu.:13.00   1st Qu.:25.00   1st Qu.:  48.6  \n",
       " Median :0.000           Median :18.00   Median :26.00   Median :  92.8  \n",
       " Mean   :0.397           Mean   :17.82   Mean   :26.39   Mean   : 178.0  \n",
       " 3rd Qu.:0.300           3rd Qu.:23.00   3rd Qu.:28.00   3rd Qu.: 226.0  \n",
       " Max.   :4.000           Max.   :33.00   Max.   :37.00   Max.   :6892.8  \n",
       " NA's   :1119            NA's   :780     NA's   :780     NA's   :696     \n",
       "  maxElevation     maxVerticalSpeed     lapCount      endLongitude    \n",
       " Min.   :  -46.6   Min.   :  1.440   Min.   : 1.00   Min.   :-0.5957  \n",
       " 1st Qu.:  112.2   1st Qu.:  2.880   1st Qu.:11.00   1st Qu.: 2.3562  \n",
       " Median :  173.8   Median :  3.600   Median :14.00   Median :16.3048  \n",
       " Mean   :  314.8   Mean   :  5.576   Mean   :17.17   Mean   :12.4668  \n",
       " 3rd Qu.:  311.4   3rd Qu.:  5.040   3rd Qu.:18.00   3rd Qu.:16.3277  \n",
       " Max.   :11308.0   Max.   :344.160   Max.   :72.00   Max.   :19.0327  \n",
       " NA's   :696       NA's   :988       NA's   :1022    NA's   :1132     \n",
       "  endLatitude      activeSets     totalSets      totalReps   \n",
       " Min.   :44.55   Min.   :0      Min.   :0      Min.   :0     \n",
       " 1st Qu.:48.21   1st Qu.:0      1st Qu.:0      1st Qu.:0     \n",
       " Median :48.22   Median :0      Median :0      Median :0     \n",
       " Mean   :48.46   Mean   :0      Mean   :0      Mean   :0     \n",
       " 3rd Qu.:48.80   3rd Qu.:0      3rd Qu.:0      3rd Qu.:0     \n",
       " Max.   :52.56   Max.   :0      Max.   :0      Max.   :0     \n",
       " NA's   :1132    NA's   :1373   NA's   :1373   NA's   :1373  \n",
       " elevationCorrected maxRunCadence        steps         avgVerticalOscillation\n",
       " Min.   :0.00       Min.   :  0.00   Min.   :     28   Min.   : 1.65         \n",
       " 1st Qu.:0.00       1st Qu.: 96.75   1st Qu.:   9044   1st Qu.: 8.56         \n",
       " Median :0.00       Median :103.00   Median :  10814   Median : 8.89         \n",
       " Mean   :0.00       Mean   :105.51   Mean   :  24874   Mean   : 8.83         \n",
       " 3rd Qu.:0.00       3rd Qu.:114.00   3rd Qu.:  12415   3rd Qu.: 9.16         \n",
       " Max.   :0.01       Max.   :128.00   Max.   :9999999   Max.   :10.28         \n",
       " NA's   :709        NA's   :781      NA's   :782       NA's   :904           \n",
       " avgGroundContactTime  vO2MaxValue    avgVerticalRatio avgGroundContactBalance\n",
       " Min.   :213.0        Min.   :52.00   Min.   : 0.78    Min.   :47.55          \n",
       " 1st Qu.:242.3        1st Qu.:56.00   1st Qu.: 7.34    1st Qu.:49.05          \n",
       " Median :250.5        Median :58.00   Median : 7.70    Median :49.47          \n",
       " Mean   :250.9        Mean   :57.58   Mean   : 7.74    Mean   :49.44          \n",
       " 3rd Qu.:257.6        3rd Qu.:59.00   3rd Qu.: 8.08    3rd Qu.:49.88          \n",
       " Max.   :504.8        Max.   :62.00   Max.   :10.55    Max.   :51.47          \n",
       " NA's   :904          NA's   :850     NA's   :904      NA's   :904            \n",
       " avgDoubleCadence maxDoubleCadence    avgPower    avgBikeCadence \n",
       " Min.   :  7.75   Min.   :152.0    Min.   : NA    Min.   :84.00  \n",
       " 1st Qu.:170.92   1st Qu.:194.0    1st Qu.: NA    1st Qu.:85.00  \n",
       " Median :172.86   Median :207.0    Median : NA    Median :85.00  \n",
       " Mean   :170.26   Mean   :212.1    Mean   :NaN    Mean   :85.30  \n",
       " 3rd Qu.:174.79   3rd Qu.:228.8    3rd Qu.: NA    3rd Qu.:85.75  \n",
       " Max.   :181.33   Max.   :256.0    Max.   : NA    Max.   :87.00  \n",
       " NA's   :783      NA's   :783      NA's   :1485   NA's   :1475   \n",
       " maxBikeCadence    strokes       normPower    avgLeftBalance avgRightBalance\n",
       " Min.   : NA    Min.   : NA    Min.   : NA    Min.   : NA    Min.   : NA    \n",
       " 1st Qu.: NA    1st Qu.: NA    1st Qu.: NA    1st Qu.: NA    1st Qu.: NA    \n",
       " Median : NA    Median : NA    Median : NA    Median : NA    Median : NA    \n",
       " Mean   :NaN    Mean   :NaN    Mean   :NaN    Mean   :NaN    Mean   :NaN    \n",
       " 3rd Qu.: NA    3rd Qu.: NA    3rd Qu.: NA    3rd Qu.: NA    3rd Qu.: NA    \n",
       " Max.   : NA    Max.   : NA    Max.   : NA    Max.   : NA    Max.   : NA    \n",
       " NA's   :1485   NA's   :1485   NA's   :1485   NA's   :1485   NA's   :1485   \n",
       " max20MinPower  trainingStressScore intensityFactor lactateThresholdBpm\n",
       " Min.   : NA    Min.   : NA         Min.   : NA     Min.   :159.0      \n",
       " 1st Qu.: NA    1st Qu.: NA         1st Qu.: NA     1st Qu.:168.0      \n",
       " Median : NA    Median : NA         Median : NA     Median :169.0      \n",
       " Mean   :NaN    Mean   :NaN         Mean   :NaN     Mean   :168.4      \n",
       " 3rd Qu.: NA    3rd Qu.: NA         3rd Qu.: NA     3rd Qu.:170.0      \n",
       " Max.   : NA    Max.   : NA         Max.   : NA     Max.   :171.0      \n",
       " NA's   :1485   NA's   :1485        NA's   :1485    NA's   :1412       \n",
       " lactateThresholdSpeed   avgStrokes   activeLengths       avgSwolf   \n",
       " Min.   :13.20         Min.   : NA    Min.   :0.0000   Min.   : NA   \n",
       " 1st Qu.:13.80         1st Qu.: NA    1st Qu.:0.0000   1st Qu.: NA   \n",
       " Median :14.40         Median : NA    Median :0.0000   Median : NA   \n",
       " Mean   :14.24         Mean   :NaN    Mean   :0.0033   Mean   :NaN   \n",
       " 3rd Qu.:14.70         3rd Qu.: NA    3rd Qu.:0.0000   3rd Qu.: NA   \n",
       " Max.   :15.20         Max.   : NA    Max.   :1.0000   Max.   : NA   \n",
       " NA's   :1412          NA's   :1485   NA's   :1184     NA's   :1485  \n",
       "   poolLength   avgStrokeDistance avgSwimCadence maxSwimCadence     maxFtp    \n",
       " Min.   : NA    Min.   : NA       Min.   : NA    Min.   : NA    Min.   :225   \n",
       " 1st Qu.: NA    1st Qu.: NA       1st Qu.: NA    1st Qu.: NA    1st Qu.:225   \n",
       " Median : NA    Median : NA       Median : NA    Median : NA    Median :225   \n",
       " Mean   :NaN    Mean   :NaN       Mean   :NaN    Mean   :NaN    Mean   :225   \n",
       " 3rd Qu.: NA    3rd Qu.: NA       3rd Qu.: NA    3rd Qu.: NA    3rd Qu.:225   \n",
       " Max.   : NA    Max.   : NA       Max.   : NA    Max.   : NA    Max.   :225   \n",
       " NA's   :1485   NA's   :1485      NA's   :1485   NA's   :1485   NA's   :1449  \n",
       " avgVerticalSpeed    maxDepth       avgDepth    surfaceInterval floorsDescended\n",
       " Min.   : NA      Min.   : NA    Min.   : NA    Min.   : NA     Min.   : NA    \n",
       " 1st Qu.: NA      1st Qu.: NA    1st Qu.: NA    1st Qu.: NA     1st Qu.: NA    \n",
       " Median : NA      Median : NA    Median : NA    Median : NA     Median : NA    \n",
       " Mean   :NaN      Mean   :NaN    Mean   :NaN    Mean   :NaN     Mean   :NaN    \n",
       " 3rd Qu.: NA      3rd Qu.: NA    3rd Qu.: NA    3rd Qu.: NA     3rd Qu.: NA    \n",
       " Max.   : NA      Max.   : NA    Max.   : NA    Max.   : NA     Max.   : NA    \n",
       " NA's   :1485     NA's   :1485   NA's   :1485   NA's   :1485    NA's   :1485   \n",
       "   bottomTime  \n",
       " Min.   : NA   \n",
       " 1st Qu.: NA   \n",
       " Median : NA   \n",
       " Mean   :NaN   \n",
       " 3rd Qu.: NA   \n",
       " Max.   : NA   \n",
       " NA's   :1485  "
      ]
     },
     "metadata": {},
     "output_type": "display_data"
    }
   ],
   "source": [
    "# Identify numeric features\n",
    "summary(select_if(dat_run, is.numeric))"
   ]
  },
  {
   "cell_type": "markdown",
   "metadata": {},
   "source": [
    "From the summary, we notice that many features do not apply to run activities (number of NAs). So we will use the following features: _distance_, average speed (_avgSpeed_), _calories_, and average heart rate (_avgHr_). Nonetheless, there are a few NAs for these. Let's impute the median value in such cases."
   ]
  },
  {
   "cell_type": "code",
   "execution_count": 10,
   "metadata": {},
   "outputs": [],
   "source": [
    "# Impute the median value for NAs on each column\n",
    "dat_run_imp <- mutate(dat_run,across(where(is.numeric),function(xx) ifelse(is.na(xx),median(xx,na.rm=T),xx)))"
   ]
  },
  {
   "cell_type": "markdown",
   "metadata": {},
   "source": [
    "Now we are ready to create time series from our dataset. Since we are interested in monthly data, we will create a new column (_dateMonth_) in our dataset which will support a monthly aggregation."
   ]
  },
  {
   "cell_type": "code",
   "execution_count": 11,
   "metadata": {},
   "outputs": [],
   "source": [
    "# Add new colunm named dateMonth which includes the date and the month extracted from start_time column\n",
    "dat_run_imp$dateMonth <- droplevels(cut(dat_run_imp$start_time, breaks='month'))"
   ]
  },
  {
   "cell_type": "markdown",
   "metadata": {},
   "source": [
    "Finally, let's compute the time series (one for each selected metric) with the monthly average."
   ]
  },
  {
   "cell_type": "code",
   "execution_count": 12,
   "metadata": {},
   "outputs": [],
   "source": [
    "## Calculate the mean of data in each month\n",
    "ts_run <- aggregate(cbind(distance,avgSpeed,calories,avgHr) ~ dateMonth, data=dat_run_imp, FUN=mean)"
   ]
  },
  {
   "cell_type": "code",
   "execution_count": 21,
   "metadata": {},
   "outputs": [
    {
     "data": {
      "text/html": [
       "<table>\n",
       "<caption>A data.frame: 15 × 5</caption>\n",
       "<thead>\n",
       "\t<tr><th></th><th scope=col>dateMonth</th><th scope=col>distance</th><th scope=col>avgSpeed</th><th scope=col>calories</th><th scope=col>avgHr</th></tr>\n",
       "\t<tr><th></th><th scope=col>&lt;fct&gt;</th><th scope=col>&lt;dbl&gt;</th><th scope=col>&lt;dbl&gt;</th><th scope=col>&lt;dbl&gt;</th><th scope=col>&lt;dbl&gt;</th></tr>\n",
       "</thead>\n",
       "<tbody>\n",
       "\t<tr><th scope=row>1</th><td>2012-01-01</td><td>14.266351</td><td>11.58815</td><td>1194.3316</td><td>144.6667</td></tr>\n",
       "\t<tr><th scope=row>2</th><td>2012-02-01</td><td>15.875778</td><td>11.96343</td><td>1316.9768</td><td>151.9231</td></tr>\n",
       "\t<tr><th scope=row>3</th><td>2012-03-01</td><td>15.367314</td><td>11.49056</td><td>1092.9170</td><td>149.1765</td></tr>\n",
       "\t<tr><th scope=row>4</th><td>2012-04-01</td><td> 6.044450</td><td>14.18198</td><td> 409.8184</td><td>154.8800</td></tr>\n",
       "\t<tr><th scope=row>5</th><td>2012-05-01</td><td> 7.037366</td><td>13.08262</td><td> 487.8705</td><td>158.1250</td></tr>\n",
       "\t<tr><th scope=row>6</th><td>2012-06-01</td><td>10.506615</td><td>11.06214</td><td> 787.6434</td><td>159.0000</td></tr>\n",
       "\t<tr><th scope=row>7</th><td>2012-07-01</td><td>12.181627</td><td>11.48606</td><td> 884.8789</td><td>154.7333</td></tr>\n",
       "\t<tr><th scope=row>8</th><td>2012-08-01</td><td> 9.642183</td><td>11.10777</td><td> 697.5532</td><td>148.4375</td></tr>\n",
       "\t<tr><th scope=row>9</th><td>2012-09-01</td><td>12.866884</td><td>11.04334</td><td> 795.6342</td><td>146.4667</td></tr>\n",
       "\t<tr><th scope=row>10</th><td>2012-10-01</td><td>10.228821</td><td>10.35556</td><td> 742.5691</td><td>145.3636</td></tr>\n",
       "\t<tr><th scope=row>11</th><td>2012-11-01</td><td>10.399289</td><td>10.77174</td><td> 734.8231</td><td>150.5714</td></tr>\n",
       "\t<tr><th scope=row>12</th><td>2012-12-01</td><td>10.439949</td><td>11.39263</td><td> 744.7931</td><td>151.7857</td></tr>\n",
       "\t<tr><th scope=row>13</th><td>2013-01-01</td><td>13.303645</td><td>11.74597</td><td> 869.5580</td><td>156.0000</td></tr>\n",
       "\t<tr><th scope=row>14</th><td>2013-02-01</td><td>11.276302</td><td>11.07756</td><td> 715.1530</td><td>147.3000</td></tr>\n",
       "\t<tr><th scope=row>15</th><td>2013-03-01</td><td>11.941440</td><td>11.12538</td><td> 780.8869</td><td>156.3077</td></tr>\n",
       "</tbody>\n",
       "</table>\n"
      ],
      "text/latex": [
       "A data.frame: 15 × 5\n",
       "\\begin{tabular}{r|lllll}\n",
       "  & dateMonth & distance & avgSpeed & calories & avgHr\\\\\n",
       "  & <fct> & <dbl> & <dbl> & <dbl> & <dbl>\\\\\n",
       "\\hline\n",
       "\t1 & 2012-01-01 & 14.266351 & 11.58815 & 1194.3316 & 144.6667\\\\\n",
       "\t2 & 2012-02-01 & 15.875778 & 11.96343 & 1316.9768 & 151.9231\\\\\n",
       "\t3 & 2012-03-01 & 15.367314 & 11.49056 & 1092.9170 & 149.1765\\\\\n",
       "\t4 & 2012-04-01 &  6.044450 & 14.18198 &  409.8184 & 154.8800\\\\\n",
       "\t5 & 2012-05-01 &  7.037366 & 13.08262 &  487.8705 & 158.1250\\\\\n",
       "\t6 & 2012-06-01 & 10.506615 & 11.06214 &  787.6434 & 159.0000\\\\\n",
       "\t7 & 2012-07-01 & 12.181627 & 11.48606 &  884.8789 & 154.7333\\\\\n",
       "\t8 & 2012-08-01 &  9.642183 & 11.10777 &  697.5532 & 148.4375\\\\\n",
       "\t9 & 2012-09-01 & 12.866884 & 11.04334 &  795.6342 & 146.4667\\\\\n",
       "\t10 & 2012-10-01 & 10.228821 & 10.35556 &  742.5691 & 145.3636\\\\\n",
       "\t11 & 2012-11-01 & 10.399289 & 10.77174 &  734.8231 & 150.5714\\\\\n",
       "\t12 & 2012-12-01 & 10.439949 & 11.39263 &  744.7931 & 151.7857\\\\\n",
       "\t13 & 2013-01-01 & 13.303645 & 11.74597 &  869.5580 & 156.0000\\\\\n",
       "\t14 & 2013-02-01 & 11.276302 & 11.07756 &  715.1530 & 147.3000\\\\\n",
       "\t15 & 2013-03-01 & 11.941440 & 11.12538 &  780.8869 & 156.3077\\\\\n",
       "\\end{tabular}\n"
      ],
      "text/markdown": [
       "\n",
       "A data.frame: 15 × 5\n",
       "\n",
       "| <!--/--> | dateMonth &lt;fct&gt; | distance &lt;dbl&gt; | avgSpeed &lt;dbl&gt; | calories &lt;dbl&gt; | avgHr &lt;dbl&gt; |\n",
       "|---|---|---|---|---|---|\n",
       "| 1 | 2012-01-01 | 14.266351 | 11.58815 | 1194.3316 | 144.6667 |\n",
       "| 2 | 2012-02-01 | 15.875778 | 11.96343 | 1316.9768 | 151.9231 |\n",
       "| 3 | 2012-03-01 | 15.367314 | 11.49056 | 1092.9170 | 149.1765 |\n",
       "| 4 | 2012-04-01 |  6.044450 | 14.18198 |  409.8184 | 154.8800 |\n",
       "| 5 | 2012-05-01 |  7.037366 | 13.08262 |  487.8705 | 158.1250 |\n",
       "| 6 | 2012-06-01 | 10.506615 | 11.06214 |  787.6434 | 159.0000 |\n",
       "| 7 | 2012-07-01 | 12.181627 | 11.48606 |  884.8789 | 154.7333 |\n",
       "| 8 | 2012-08-01 |  9.642183 | 11.10777 |  697.5532 | 148.4375 |\n",
       "| 9 | 2012-09-01 | 12.866884 | 11.04334 |  795.6342 | 146.4667 |\n",
       "| 10 | 2012-10-01 | 10.228821 | 10.35556 |  742.5691 | 145.3636 |\n",
       "| 11 | 2012-11-01 | 10.399289 | 10.77174 |  734.8231 | 150.5714 |\n",
       "| 12 | 2012-12-01 | 10.439949 | 11.39263 |  744.7931 | 151.7857 |\n",
       "| 13 | 2013-01-01 | 13.303645 | 11.74597 |  869.5580 | 156.0000 |\n",
       "| 14 | 2013-02-01 | 11.276302 | 11.07756 |  715.1530 | 147.3000 |\n",
       "| 15 | 2013-03-01 | 11.941440 | 11.12538 |  780.8869 | 156.3077 |\n",
       "\n"
      ],
      "text/plain": [
       "   dateMonth  distance  avgSpeed calories  avgHr   \n",
       "1  2012-01-01 14.266351 11.58815 1194.3316 144.6667\n",
       "2  2012-02-01 15.875778 11.96343 1316.9768 151.9231\n",
       "3  2012-03-01 15.367314 11.49056 1092.9170 149.1765\n",
       "4  2012-04-01  6.044450 14.18198  409.8184 154.8800\n",
       "5  2012-05-01  7.037366 13.08262  487.8705 158.1250\n",
       "6  2012-06-01 10.506615 11.06214  787.6434 159.0000\n",
       "7  2012-07-01 12.181627 11.48606  884.8789 154.7333\n",
       "8  2012-08-01  9.642183 11.10777  697.5532 148.4375\n",
       "9  2012-09-01 12.866884 11.04334  795.6342 146.4667\n",
       "10 2012-10-01 10.228821 10.35556  742.5691 145.3636\n",
       "11 2012-11-01 10.399289 10.77174  734.8231 150.5714\n",
       "12 2012-12-01 10.439949 11.39263  744.7931 151.7857\n",
       "13 2013-01-01 13.303645 11.74597  869.5580 156.0000\n",
       "14 2013-02-01 11.276302 11.07756  715.1530 147.3000\n",
       "15 2013-03-01 11.941440 11.12538  780.8869 156.3077"
      ]
     },
     "metadata": {},
     "output_type": "display_data"
    },
    {
     "data": {
      "text/html": [
       "'105 rows x 5 columns'"
      ],
      "text/latex": [
       "'105 rows x 5 columns'"
      ],
      "text/markdown": [
       "'105 rows x 5 columns'"
      ],
      "text/plain": [
       "[1] \"105 rows x 5 columns\""
      ]
     },
     "metadata": {},
     "output_type": "display_data"
    }
   ],
   "source": [
    "# Check the result\n",
    "head(ts_run,15); sprintf(\"% s rows x % s columns\", nrow(ts_run),  ncol(ts_run))"
   ]
  },
  {
   "cell_type": "markdown",
   "metadata": {},
   "source": [
    "## Time series analysis"
   ]
  },
  {
   "cell_type": "markdown",
   "metadata": {},
   "source": [
    "Let's check the autocorrelation for each time series."
   ]
  },
  {
   "cell_type": "code",
   "execution_count": 22,
   "metadata": {},
   "outputs": [
    {
     "data": {
      "image/png": "[encoded data removed]",
      "text/plain": [
       "Plot with title \"Time Series (distance)\""
      ]
     },
     "metadata": {
      "image/png": {
       "height": 420,
       "width": 540
      }
     },
     "output_type": "display_data"
    }
   ],
   "source": [
    "# Create a time series object from distance data\n",
    "ts1 <- ts(ts_run$distance, start=c(2012, 1), frequency=12)\n",
    "\n",
    "# Create a function to define figure size when plotting\n",
    "fig <- function(width, heigth){\n",
    "     options(repr.plot.width = width, repr.plot.height = heigth)\n",
    "}\n",
    "\n",
    "# Compute and plot the ACF for distance\n",
    "fig(9,7)\n",
    "acf(ts1, plot=T, main = \"Time Series (distance)\")"
   ]
  },
  {
   "cell_type": "markdown",
   "metadata": {},
   "source": [
    "As we can check from the above graph we have a correlation coefficient of 0.33 for the first lag which means that the distance of the current month is positively correlated with the distance of the previous month (but not strongly). If we consider two lags, i.e., two months from the current, this correlation disappears. Let's see if there are any trends and seasonal patterns."
   ]
  },
  {
   "cell_type": "code",
   "execution_count": 23,
   "metadata": {},
   "outputs": [
    {
     "data": {
      "image/png": "[encoded data removed]",
      "text/plain": [
       "plot without title"
      ]
     },
     "metadata": {
      "image/png": {
       "height": 480,
       "width": 600
      }
     },
     "output_type": "display_data"
    }
   ],
   "source": [
    "# Decompose distance time series and plot the result\n",
    "fig(10,8)\n",
    "plot(decompose(ts1))"
   ]
  },
  {
   "cell_type": "markdown",
   "metadata": {},
   "source": [
    "From the previous graph we can check that there is an upward trend until 2017 that reverted during 2018/2019. From the seasonal part of the graph, there is an explicit pattern and residuals seems random that conforms with an additive time series. Let's check the others."
   ]
  },
  {
   "cell_type": "code",
   "execution_count": 124,
   "metadata": {},
   "outputs": [
    {
     "data": {
      "image/png": "[encoded data removed]",
      "text/plain": [
       "Plot with title \"Time Series (avgSpeed)\""
      ]
     },
     "metadata": {
      "image/png": {
       "height": 420,
       "width": 540
      }
     },
     "output_type": "display_data"
    }
   ],
   "source": [
    "# Create a time series object from avgSpeed data\n",
    "ts2 <- ts(ts_run$avgSpeed, start=c(2012, 1), frequency=12)\n",
    "\n",
    "# Compute and plot the ACF for avgSpeed\n",
    "fig(9,7)\n",
    "acf(ts2, plot=T, main = \"Time Series (avgSpeed)\")"
   ]
  },
  {
   "cell_type": "raw",
   "metadata": {},
   "source": [
    "Regarding the autocorrelation, the average speed is more positively correlated than the distance. For instance,  the correlation coefficient for the first lag is 0.47 while the second lag is 0.35. For the third lag, it decreases but starts to rise from the fourth and fifth lag, and so on. Now, let's see if there are any trend and seasonal patterns."
   ]
  },
  {
   "cell_type": "code",
   "execution_count": 85,
   "metadata": {},
   "outputs": [
    {
     "data": {
      "image/png": "[encoded data removed]",
      "text/plain": [
       "plot without title"
      ]
     },
     "metadata": {
      "image/png": {
       "height": 480,
       "width": 600
      }
     },
     "output_type": "display_data"
    }
   ],
   "source": [
    "# Decompose avgSpeed time series and plot the result\n",
    "fig(10,8)\n",
    "plot(decompose(ts2))"
   ]
  },
  {
   "cell_type": "markdown",
   "metadata": {},
   "source": [
    "We can check that there is an upward trend similar to the distance until 2017 that reverted during 2018/2019 before starting to increase again. The seasonal part of the graph shows an explicit pattern. Residuals seem also to be random. Let's continue."
   ]
  },
  {
   "cell_type": "code",
   "execution_count": 129,
   "metadata": {},
   "outputs": [
    {
     "data": {
      "image/png": "[encoded data removed]",
      "text/plain": [
       "Plot with title \"Time Series (calories)\""
      ]
     },
     "metadata": {
      "image/png": {
       "height": 420,
       "width": 540
      }
     },
     "output_type": "display_data"
    }
   ],
   "source": [
    "# Create a time series object from calories data\n",
    "ts3 <- ts(ts_run$calories, start=c(2012, 1), frequency=12)\n",
    "\n",
    "# Compute and plot the ACF for calories\n",
    "fig(9,7)\n",
    "acf(ts3, plot=T, main = \"Time Series (calories)\")"
   ]
  },
  {
   "cell_type": "markdown",
   "metadata": {},
   "source": [
    "Calories are positively correlated with the intensity decreasing over time. Starting with a 0.4 coefficient for the first lag, then decreasing substantially for the second and third lag, increasing after, and so on. Let's check on trend and seasonal patterns."
   ]
  },
  {
   "cell_type": "code",
   "execution_count": 83,
   "metadata": {},
   "outputs": [
    {
     "data": {
      "image/png": "[encoded data removed]",
      "text/plain": [
       "plot without title"
      ]
     },
     "metadata": {
      "image/png": {
       "height": 480,
       "width": 600
      }
     },
     "output_type": "display_data"
    }
   ],
   "source": [
    "# Decompose calories time series and plot the result\n",
    "fig(10,8)\n",
    "plot(decompose(ts3))"
   ]
  },
  {
   "cell_type": "markdown",
   "metadata": {},
   "source": [
    "Very similar to the previous series, calories seem to have an upward trend from the beginning of the observations until 2017, when it went downward and stabilized. There is an explicit seasonal pattern. Regarding the residuals, it seems to be have a pattern during 2015 which indicates that the decomposition may be multiplicative and not additive. Finally, let's analyze the average heart rate data. "
   ]
  },
  {
   "cell_type": "code",
   "execution_count": 131,
   "metadata": {},
   "outputs": [
    {
     "data": {
      "image/png": "[encoded data removed]",
      "text/plain": [
       "Plot with title \"Time Series (avgHr)\""
      ]
     },
     "metadata": {
      "image/png": {
       "height": 420,
       "width": 540
      }
     },
     "output_type": "display_data"
    }
   ],
   "source": [
    "# Create a time series object from avgHr data\n",
    "ts4 <- ts(ts_run$avgHr, start=c(2012, 1), frequency=12)\n",
    "\n",
    "# Compute and plot the ACF for avgHr\n",
    "fig(9,7)\n",
    "acf(ts4, plot=T, main = \"Time Series (avgHr)\")"
   ]
  },
  {
   "cell_type": "markdown",
   "metadata": {},
   "source": [
    "The average heart rate is also positively correlated with the intensity decreasing over time. Starting with a 0.2 coefficient for the first lag, then decreasing substantially for the second lag, and becoming negatively correlated afterward for lags 3 to 6. Let's check now on trend and seasonal patterns."
   ]
  },
  {
   "cell_type": "code",
   "execution_count": 84,
   "metadata": {},
   "outputs": [
    {
     "data": {
      "image/png": "[encoded data removed]",
      "text/plain": [
       "plot without title"
      ]
     },
     "metadata": {
      "image/png": {
       "height": 480,
       "width": 600
      }
     },
     "output_type": "display_data"
    }
   ],
   "source": [
    "# Decompose avgHr time series and plot the result\n",
    "fig(10,8)\n",
    "plot(decompose(ts4))"
   ]
  },
  {
   "cell_type": "markdown",
   "metadata": {},
   "source": [
    "This time, there is no identifiable trend for the average heart rate. Though, the time series is seasonal. About the residuals, they seem to be random which is conformed with an additive decomposition."
   ]
  },
  {
   "cell_type": "markdown",
   "metadata": {},
   "source": [
    "## Prediction\n",
    "\n",
    "Now let's do some predictions using econometrics models. To start, we divide our data into train and test datasets."
   ]
  },
  {
   "cell_type": "code",
   "execution_count": 53,
   "metadata": {},
   "outputs": [],
   "source": [
    "# Divide data into train and test subsets\n",
    "ts1_train <- window(ts1, start = c(2012,1), end = c(2018,12))\n",
    "ts1_test <- window(ts1, start = c(2019,1))"
   ]
  },
  {
   "cell_type": "markdown",
   "metadata": {},
   "source": [
    "### Naive method\n",
    "\n",
    "When doing a forecast is always a good idea to have a base case to compare with. This tends to ensure that efforts are worthwhile in terms of results in a more complex model. For such we will use the seasonal naive method in which the forecast for the next month is what we observed from the same month a year before. As a comparison metric, we will use the mean absolute percentage error (MAPE)."
   ]
  },
  {
   "cell_type": "code",
   "execution_count": 65,
   "metadata": {},
   "outputs": [
    {
     "data": {
      "text/html": [
       "17.9181555900896"
      ],
      "text/latex": [
       "17.9181555900896"
      ],
      "text/markdown": [
       "17.9181555900896"
      ],
      "text/plain": [
       "[1] 17.91816"
      ]
     },
     "metadata": {},
     "output_type": "display_data"
    }
   ],
   "source": [
    "# Run the seasonal naive model and compute the MAPE\n",
    "naive <- snaive(ts1_train, h=length(ts1_test))\n",
    "MAPE(naive$mean, ts1_test) * 100"
   ]
  },
  {
   "cell_type": "code",
   "execution_count": 84,
   "metadata": {},
   "outputs": [
    {
     "data": {
      "image/png": "[encoded data removed]",
      "text/plain": [
       "Plot with title \"Seasonal Naive Forecast\""
      ]
     },
     "metadata": {
      "image/png": {
       "height": 420,
       "width": 540
      }
     },
     "output_type": "display_data"
    }
   ],
   "source": [
    "# Plot the results\n",
    "fig(9,7)\n",
    "plot(ts1, col=\"blue\", xlab=\"\", ylab=\"distance (Km)\", main=\"Seasonal Naive Forecast\", type='l')\n",
    "lines(naive$mean, col=\"red\", lwd=2)\n",
    "legend(\"bottomright\", legend=c(\"Predicted\", \"Actual\"),\n",
    "       col=c(\"red\", \"blue\"), lty=1:2, cex=1)"
   ]
  },
  {
   "cell_type": "markdown",
   "metadata": {},
   "source": [
    "This is our base to compare with other models. Let's see if we can improve our predictions."
   ]
  },
  {
   "cell_type": "markdown",
   "metadata": {},
   "source": [
    "### Double Seasonal Holt-Winters\n",
    "\n",
    "The idea behind the Double Seasonal Holt-Winters model is the more recent an observation, more importance it will have in our forecast. This is done with the use of weights. There are also parameters regarding trend and seasonality."
   ]
  },
  {
   "cell_type": "code",
   "execution_count": 116,
   "metadata": {},
   "outputs": [
    {
     "data": {
      "text/html": [
       "11.6918230771718"
      ],
      "text/latex": [
       "11.6918230771718"
      ],
      "text/markdown": [
       "11.6918230771718"
      ],
      "text/plain": [
       "[1] 11.69182"
      ]
     },
     "metadata": {},
     "output_type": "display_data"
    }
   ],
   "source": [
    "# Run the Double Seasonal Holt-Winters model and compute the MAPE\n",
    "dshw_model <- dshw(ts1_train, period1=4, period2 = 12, h=length(ts1_test))\n",
    "MAPE(dshw_model$mean, ts1_test)*100"
   ]
  },
  {
   "cell_type": "code",
   "execution_count": 117,
   "metadata": {},
   "outputs": [
    {
     "data": {
      "image/png": "[encoded data removed]",
      "text/plain": [
       "Plot with title \"Double Seasonal Holt-Winters\""
      ]
     },
     "metadata": {
      "image/png": {
       "height": 420,
       "width": 540
      }
     },
     "output_type": "display_data"
    }
   ],
   "source": [
    "# Plot the results\n",
    "fig(9,7)\n",
    "plot(ts1, col=\"blue\", xlab=\"\", ylab=\"distance (Km)\", main=\"Double Seasonal Holt-Winters\", type='l')\n",
    "lines(dshw_model$mean, col=\"red\", lwd=2)\n",
    "legend(\"bottomright\", legend=c(\"Predicted\", \"Actual\"),\n",
    "       col=c(\"red\", \"blue\"), lty=1:2, cex=1)"
   ]
  },
  {
   "cell_type": "markdown",
   "metadata": {},
   "source": [
    "As per the above results, our prediction power improved compared to the base model. Let's continue."
   ]
  },
  {
   "cell_type": "markdown",
   "metadata": {},
   "source": [
    "### ARIMA\n",
    "\n",
    "ARIMA models are very popular to perform predictions on time series. It is composed of three parts: autoregressive (parameter _p_), differencing (parameter _d_), and moving average (parameter _q_).\n",
    "\n",
    "R provides a function to optimize these parameters called _auto.arima_. Let's use it."
   ]
  },
  {
   "cell_type": "code",
   "execution_count": 176,
   "metadata": {},
   "outputs": [
    {
     "name": "stdout",
     "output_type": "stream",
     "text": [
      "Series: ts1_train \n",
      "ARIMA(3,1,1) \n",
      "\n",
      "Coefficients:\n",
      "         ar1      ar2      ar3      ma1\n",
      "      0.2112  -0.1559  -0.3084  -0.8730\n",
      "s.e.  0.1189   0.1095   0.1197   0.0738\n",
      "\n",
      "sigma^2 estimated as 5.124:  log likelihood=-184.61\n",
      "AIC=379.23   AICc=380.01   BIC=391.32\n"
     ]
    }
   ],
   "source": [
    "# Estimate the ARIMA parameters\n",
    "arima_model <- auto.arima(ts1_train); print(arima_model)"
   ]
  },
  {
   "cell_type": "code",
   "execution_count": 177,
   "metadata": {},
   "outputs": [
    {
     "data": {
      "text/html": [
       "12.1101311760036"
      ],
      "text/latex": [
       "12.1101311760036"
      ],
      "text/markdown": [
       "12.1101311760036"
      ],
      "text/plain": [
       "[1] 12.11013"
      ]
     },
     "metadata": {},
     "output_type": "display_data"
    }
   ],
   "source": [
    "# Run the ARIMA model and compute the MAPE\n",
    "fcast <- forecast(arima_model,h=length(ts1_test))\n",
    "MAPE(fcast$mean, ts1_test)*100"
   ]
  },
  {
   "cell_type": "code",
   "execution_count": 178,
   "metadata": {},
   "outputs": [
    {
     "data": {
      "image/png": "[encoded data removed]",
      "text/plain": [
       "Plot with title \"ARIMA(3,1,1)\""
      ]
     },
     "metadata": {
      "image/png": {
       "height": 420,
       "width": 540
      }
     },
     "output_type": "display_data"
    }
   ],
   "source": [
    "# Plot the results\n",
    "fig(9,7)\n",
    "plot(ts1, col=\"blue\", xlab=\"\", ylab=\"distance (Km)\", main=\"ARIMA(3,1,1)\", type='l')\n",
    "lines(fcast$mean, col=\"red\", lwd=2)\n",
    "legend(\"bottomright\", legend=c(\"Predicted\", \"Actual\"),\n",
    "       col=c(\"red\", \"blue\"), lty=1:2, cex=1)"
   ]
  },
  {
   "cell_type": "markdown",
   "metadata": {},
   "source": [
    "As we can see, the ARIMA model is quite conservative when performing predictions 21 steps (months) ahead. It worked quite similar to a linear regression where the goal is to minimize the square of the errors.\n",
    "\n",
    "Let's try something different. Instead of forecasting the whole period, let's do it step by step and also incorporate new observations for each new prediction. This is a common procedure when dealing with time times since as time passes new information becomes available."
   ]
  },
  {
   "cell_type": "code",
   "execution_count": 234,
   "metadata": {},
   "outputs": [
    {
     "data": {
      "text/html": [
       "7.45642903276024"
      ],
      "text/latex": [
       "7.45642903276024"
      ],
      "text/markdown": [
       "7.45642903276024"
      ],
      "text/plain": [
       "[1] 7.456429"
      ]
     },
     "metadata": {},
     "output_type": "display_data"
    }
   ],
   "source": [
    "# Compute one step ahead forecast using ARIMA \n",
    "one_step_ahead_arima <- matrix(ncol = 2, nrow = 21)\n",
    "\n",
    "for (i in 1:21){\n",
    "        \n",
    "    training_observed <- window(ts1, start = c(2012,1), end = c(2018,(12+i)), frequency = 12)\n",
    "    \n",
    "    arima_model <- auto.arima(training_observed) \n",
    "  \n",
    "    forecast_arima = forecast(arima_model,h=1)\n",
    "      \n",
    "    forecasted = forecast_arima$mean\n",
    "    observed = ts1_test[[i]]\n",
    "  \n",
    "    one_step_ahead_arima[i,1]= observed\n",
    "    one_step_ahead_arima[i,2]= forecasted\n",
    "}\n",
    "\n",
    "MAPE(one_step_ahead_arima[,1], one_step_ahead_arima[,2]) * 100"
   ]
  },
  {
   "cell_type": "code",
   "execution_count": 235,
   "metadata": {},
   "outputs": [
    {
     "data": {
      "image/png": "[encoded data removed]",
      "text/plain": [
       "Plot with title \"ARIMA(3,1,1) one-step-ahead\""
      ]
     },
     "metadata": {
      "image/png": {
       "height": 420,
       "width": 540
      }
     },
     "output_type": "display_data"
    }
   ],
   "source": [
    "# Plot the results\n",
    "fig(9,7)\n",
    "plot(ts1, col=\"blue\", xlab=\"\", ylab=\"distance (Km)\", main=\"ARIMA(3,1,1) one-step-ahead\", type='l')\n",
    "lines(ts(one_step_ahead_arima[,2], start = c(2019,1), frequency = 12), col=\"red\", lwd=2)\n",
    "legend(\"bottomright\", legend=c(\"Predicted\", \"Actual\"),\n",
    "       col=c(\"red\", \"blue\"), lty=1:2, cex=1)"
   ]
  },
  {
   "cell_type": "markdown",
   "metadata": {},
   "source": [
    "As saw from the results, our prediction power increased significantly. The ARIMA model predicting one step and incorporating a new observation for each new prediction is the best model so far. \n",
    "\n",
    "Let's then use these three models on the other features."
   ]
  },
  {
   "cell_type": "code",
   "execution_count": 356,
   "metadata": {},
   "outputs": [],
   "source": [
    "# Divide dataset into train and test subsets\n",
    "myTS <- lapply( paste0('ts',1:4), get)\n",
    "\n",
    "for(i in 1:4) { \n",
    "    train <- paste(c(\"ts\", i,'_train'), collapse = \"\")\n",
    "    test <- paste(c(\"ts\", i,'_test'), collapse = \"\")\n",
    "    assign(train, window(myTS[[i]], start = c(2012,1), end = c(2018,12)))\n",
    "    assign(test, window(myTS[[i]], start = c(2019,1)))\n",
    "    \n",
    "}"
   ]
  },
  {
   "cell_type": "code",
   "execution_count": 360,
   "metadata": {},
   "outputs": [],
   "source": [
    "# Create one-step-ahead ARIMA function\n",
    "arima1step <- function(ts, test) {\n",
    "    \n",
    "   one_step_ahead_arima <- matrix(ncol = 2, nrow = 21)\n",
    "\n",
    "    for (i in 1:21){\n",
    "\n",
    "        training_observed <- window(ts, start = c(2012,1), end = c(2018,(12+i)), frequency = 12)\n",
    "\n",
    "        arima_model <- auto.arima(training_observed) \n",
    "\n",
    "        forecast_arima = forecast(arima_model,h=1)\n",
    "\n",
    "        forecasted = forecast_arima$mean\n",
    "        observed = ts1_test[[i]]\n",
    "\n",
    "        one_step_ahead_arima[i,1]= observed\n",
    "        one_step_ahead_arima[i,2]= forecasted\n",
    "    }\n",
    "\n",
    "    return(one_step_ahead_arima)\n",
    "}\n",
    "\n",
    "\n",
    "# Run the models\n",
    "train <- lapply( paste0('ts',1:4,'_train'), get)\n",
    "test <- lapply( paste0('ts',1:4,'_test'), get)\n",
    "\n",
    "for(i in 1:1) { \n",
    "    naive <- paste(c(\"naive\",'_ts', i), collapse = \"\")\n",
    "    dshw <- paste(c(\"dshw\", '_ts', i), collapse = \"\")\n",
    "    arima <- paste(c(\"arima\", '_ts', i), collapse = \"\")\n",
    "    assign(naive, snaive(train[[i]], h=length(test[[i]])))\n",
    "    assign(dshw, dshw(train[[i]], period1=4, period2 = 12, h=length(test[[i]])))\n",
    "    assign(arima, arima1step(myTS[[i]],test[[i]]))\n",
    "}"
   ]
  },
  {
   "cell_type": "code",
   "execution_count": 384,
   "metadata": {},
   "outputs": [],
   "source": [
    "# Compute the MAPE for each model\n",
    "naive_mod <- lapply( paste0('naive_ts',1:4), get)\n",
    "dshw_mod <- lapply( paste0('dshw_ts',1:4), get)\n",
    "arima_mod <- lapply( paste0('arima_ts',1:4), get)\n",
    "\n",
    "for(i in 1:4) { \n",
    "    mapeNaive <- paste(c(\"naive_mape\",'_ts', i), collapse = \"\")\n",
    "    mapeDshw <- paste(c(\"dshw_mape\", '_ts', i), collapse = \"\")\n",
    "    mapeArima <- paste(c(\"arima_mape\", '_ts', i), collapse = \"\")\n",
    "    assign(mapeNaive, MAPE(naive_mod[[i]]$mean, test[[i]]) * 100)\n",
    "    assign(mapeDshw, MAPE(dshw_mod[[i]]$mean, test[[i]])*100)\n",
    "    assign(mapeArima, MAPE(arima_mod[[i]][,1], arima_mod[[i]][,2]) * 100)\n",
    "}"
   ]
  },
  {
   "cell_type": "code",
   "execution_count": 395,
   "metadata": {},
   "outputs": [
    {
     "name": "stdout",
     "output_type": "stream",
     "text": [
      "       distance  avgSpeed  calories     avgHr\n",
      "Naive 17.918156  6.482069 24.065333  1.734363\n",
      "DSWH  11.691823  4.537593 14.995613  1.629470\n",
      "ARIMA  7.456429 10.546566 98.481339 91.694661\n"
     ]
    }
   ],
   "source": [
    "# Create a table of results\n",
    "results <- matrix(c(naive_mape_ts1,naive_mape_ts2,naive_mape_ts3,naive_mape_ts4,dshw_mape_ts1,dshw_mape_ts2,\n",
    "                    dshw_mape_ts3,dshw_mape_ts4,arima_mape_ts1,arima_mape_ts2,arima_mape_ts3,arima_mape_ts4),\n",
    "                    ncol=4,byrow=TRUE)\n",
    "colnames(results) <- c(\"distance\",\"avgSpeed\",\"calories\",\"avgHr\")\n",
    "rownames(results) <- c(\"Naive\",\"DSWH\",\"ARIMA\")\n",
    "results <- as.table(results)\n",
    "print(results)"
   ]
  },
  {
   "cell_type": "markdown",
   "metadata": {},
   "source": [
    "Interestingly, the best performer for the other features was the Double Seasonal Holt-Winters model. The ARIMA model was the poorest model by large on these new features. Worth of notice was the performance of the best model for average heart rate (not very far from the naive model)."
   ]
  },
  {
   "cell_type": "markdown",
   "metadata": {},
   "source": [
    "## Conclusion\n",
    "\n",
    "In this task, we performed data preparation, visualization, and prediction using time series. During the preparation step, we selected only the numerical features (a time series prerequisite) and used the features with the least number of missing values. To understand the data we used some econometrics tools like creating ACF plots and decomposing the series for analysis. Then we used three different methods to model each time series and checked the results.\n",
    "\n",
    "For most of the features, the best performing model was the Double Seasonal Holt-Winters. It seems that it captured better than the other models the trend and seasonal patterns present in those series. The ARIMA model performed well for just one feature (distance) and poorly with the others. For parameters choosing (in the case of ARIMA), we used the ones suggested by Auto ARIMA and did not delve deeper into the decomposition of the series for fine-tuning them."
   ]
  }
 ],
 "metadata": {
  "kernelspec": {
   "display_name": "R",
   "language": "R",
   "name": "ir"
  },
  "language_info": {
   "codemirror_mode": "r",
   "file_extension": ".r",
   "mimetype": "text/x-r-source",
   "name": "R",
   "pygments_lexer": "r",
   "version": "4.0.3"
  }
 },
 "nbformat": 4,
 "nbformat_minor": 4
}
