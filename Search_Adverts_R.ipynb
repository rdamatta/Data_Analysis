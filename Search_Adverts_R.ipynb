{
 "cells": [
  {
   "cell_type": "markdown",
   "metadata": {},
   "source": [
    "# Search advertising algorithms\n",
    "\n",
    "The objective of this project is to understand the core of search advertising algorithms which try to efficiently match each web search query with a set of preexistent ads from companies willing to expand their consumer base.\n",
    "\n",
    "Suppose we have 3 web advertisers named “A”, “B”, and “C” who have bid on three search terms each. Each advertiser stipulates a bid on each search term, i.e., each time an ad is displayed after a web search and clicked by a web surfer, the value of the bid is subtracted from the advertiser’s budget. In the end of the billing cycle, the total of bids is paid by the advertiser to the search engine provider. In our example, suppose that “A” and “C” has bid €2 for each search term, and “B” has bid €1 for each search term. The initial budget of “A” is €8, of “B” is €4 and of “C” is also €8. For the sake of simplicity, the click-through-rate (or CTR) which is the number of clicks that an ad receives divided by the number of times it is shown, is equal to 1<span>%</span> for “A”, “B”, and “C”.\n",
    "\n",
    "| Advertiser    |    A    |     B     |    C     |\n",
    "|---------------|---------|-----------|----------|\n",
    "|               | Apple   | Apple     | Apple    |   \n",
    "| _search terms_  | MacBook | Nutrition | MacBook  |  \n",
    "|               | iPhone  | Health    | Computer | "
   ]
  },
  {
   "cell_type": "markdown",
   "metadata": {},
   "source": [
    "Now suppose that the following search queries arrive: \"Apple\", \"Apple\", \"Apple\", \"Apple\", \"iPhone\", \"Nutrition\", \"Nutrition\", \"iPhone\", \"Nutrition\", \"iPhone\", \"iPhone\", \"Nutrition\".\n",
    "\n",
    "Then one can easily allocate each query with the best ad considering anticipated bids, budgets, and CTRs.\n",
    "\n",
    "| Nbr.|  Query    | Match | Choice | Revenue |\n",
    "|-----|-----------|-------|--------|---------|\n",
    "|  1  | Apple     | A B C | A      |  €2   | \n",
    "|  2  | Apple     | A B C | C      |  €2   |\n",
    "|  3  | Apple     | A B C | C      |  €2   |\n",
    "|  4  | Apple     | A B C | C      |  €2   |\n",
    "|  5  | iPhone    | A     | A      |  €2   |\n",
    "|  6  | Nutrition | B     | B      |  €1   |\n",
    "|  7  | Nutrition | B     | B      |  €1   |\n",
    "|  8  | iPhone    | A     | A      |  €2   |\n",
    "|  9  | Nutrition | B     | B      |  €1   |\n",
    "|  10 | iPhone    | A     | A      |  €2   |\n",
    "|  11 | iPhone    | A     | A      |  €2   |\n",
    "|  12 | Nutrition | B     | B      |  €1   |\n",
    "|     |           |       | TOTAL  |  €20  |\n",
    "\n",
    "The payoff is €20 which is the optimal solution considering our constraints (bids and budgets). But it is not realistic since we do not know the whole query set previously. This solution comes from the so-called _Offline Algorithm_ which supposes that all queries are previously known."
   ]
  },
  {
   "cell_type": "markdown",
   "metadata": {},
   "source": [
    " ## Greedy algorithm\n",
    " \n",
    "There are some alternatives to the _Offline Algorithm_. One of them is the _Greedy Algorithm_ which chooses the advertiser according to with the highest bid, i.e., the one who bids higher in the arrived search term is selected. \n",
    "\n",
    "For the sake of simplicity, here all bid ties are broken alphabetically and in a deterministic way. So that if both “A” and “B” match with a search term, the query will be assigned to “A”.\n",
    "\n",
    "Let's write some lines of code to compute it.\n",
    " "
   ]
  },
  {
   "cell_type": "code",
   "execution_count": 79,
   "metadata": {},
   "outputs": [],
   "source": [
    "# Define bids on queries\n",
    "Bids <- c(2,2,2,1,1,1,2,2,2)\n",
    "\n",
    "# Define advertisers\n",
    "Advertiser <- c(\"A\",\"A\",\"A\",\"B\",\"B\",\"B\",\"C\",\"C\",\"C\")\n",
    "\n",
    "# Define search terms\n",
    "SearchTerm <- c(\"Apple\",\"MacBook\",\"iPhone\",\"Apple\",\"Nutrition\",\"Health\",\"Apple\",\"MacBook\",\"Computer\")\n",
    "\n",
    "# Define Click-Through-Rates\n",
    "CTR <- c(1,1,1,1,1,1,1,1,1)\n",
    "\n",
    "# Create dataframe with previous data\n",
    "adwordsDF <- data.frame(cbind(Advertiser,Bids,SearchTerm,CTR),stringsAsFactors=FALSE)\n",
    "\n",
    "# Convert Bids and CTR from text to numbers\n",
    "adwordsDF$Bids <- as.numeric(adwordsDF$Bids)\n",
    "adwordsDF$CTR <- as.numeric(adwordsDF$CTR)\n",
    "\n",
    "# Add expected revenue in previous dataframe\n",
    "adwordsDF$ER <- adwordsDF$Bids*adwordsDF$CTR\n",
    "\n",
    "# Create budgets for each advertiser\n",
    "adwordsDF$Budget <- 0\n",
    "adwordsDF$Budget[adwordsDF$Advertiser==\"A\"] <- 8\n",
    "adwordsDF$Budget[adwordsDF$Advertiser==\"B\"] <- 4\n",
    "adwordsDF$Budget[adwordsDF$Advertiser==\"C\"] <- 8\n",
    "\n",
    "# Define search queries\n",
    "searchQueries <- c(\"Apple\", \"Apple\", \"Apple\", \"Apple\", \"iPhone\", \"Nutrition\", \"Nutrition\", \"iPhone\", \"Nutrition\", \"iPhone\", \"iPhone\", \"Nutrition\")\n",
    "\n",
    "# Define payoff\n",
    "Payoff <- 0\n",
    "\n",
    "# Create dataframe to save results\n",
    "ResultDF <- data.frame(Search=character(),Match=character(),Choice=character(),Revenue=numeric(),stringsAsFactors=FALSE)"
   ]
  },
  {
   "cell_type": "code",
   "execution_count": 80,
   "metadata": {},
   "outputs": [
    {
     "name": "stderr",
     "output_type": "stream",
     "text": [
      "Warning message in max(BudgetSubset$ER):\n",
      "“no non-missing arguments to max; returning -Inf”\n",
      "Warning message in max(BudgetSubset$ER):\n",
      "“no non-missing arguments to max; returning -Inf”\n",
      "Warning message in max(BudgetSubset$ER):\n",
      "“no non-missing arguments to max; returning -Inf”\n",
      "Warning message in max(BudgetSubset$ER):\n",
      "“no non-missing arguments to max; returning -Inf”\n"
     ]
    }
   ],
   "source": [
    "# Greedy Algorithm\n",
    "\n",
    "for(i in searchQueries){\n",
    "  # find matching bid to search query\n",
    "  MatchSubset <- adwordsDF[adwordsDF$SearchTerm==i,]\n",
    "  # Only keep advertisers with enough budget left\n",
    "  BudgetSubset <- MatchSubset[MatchSubset$Budget>=MatchSubset$Bids,]\n",
    "  # Only keep bids with highest ER\n",
    "  HighestER <- BudgetSubset[BudgetSubset$ER==max(BudgetSubset$ER),]\n",
    "  \n",
    "  if (is.na(HighestER$Advertiser[1])){\n",
    "    ResultDF <- rbind(ResultDF,data.frame(Search=i,Match=paste(MatchSubset$Advertiser,collapse=\" or \"), Choice=\"-\",Revenue=0))\n",
    "    \n",
    "  }else{\n",
    "    # Rule of multiple advertisers have the highest ER for search query\n",
    "    indexing <- adwordsDF$Advertiser==HighestER$Advertiser[1]\n",
    "    adwordsDF$Budget[indexing] <- adwordsDF$Budget[indexing]-HighestER$Bids[1]\n",
    "    Payoff <- Payoff+HighestER$Bids[1]\n",
    "    ResultDF <- rbind(ResultDF,data.frame(Search=i,Match=paste(MatchSubset$Advertiser,collapse=\" or \"), Choice=HighestER$Advertiser[1],Revenue=HighestER$Bids[1]))\n",
    "  }\n",
    "}"
   ]
  },
  {
   "cell_type": "markdown",
   "metadata": {},
   "source": [
    "Below is the result using the _Greedy Algorithm_:"
   ]
  },
  {
   "cell_type": "code",
   "execution_count": 81,
   "metadata": {},
   "outputs": [
    {
     "data": {
      "text/html": [
       "<table>\n",
       "<caption>A data.frame: 12 × 4</caption>\n",
       "<thead>\n",
       "\t<tr><th scope=col>Search</th><th scope=col>Match</th><th scope=col>Choice</th><th scope=col>Revenue</th></tr>\n",
       "\t<tr><th scope=col>&lt;chr&gt;</th><th scope=col>&lt;chr&gt;</th><th scope=col>&lt;chr&gt;</th><th scope=col>&lt;dbl&gt;</th></tr>\n",
       "</thead>\n",
       "<tbody>\n",
       "\t<tr><td>Apple    </td><td>A or B or C</td><td>A</td><td>2</td></tr>\n",
       "\t<tr><td>Apple    </td><td>A or B or C</td><td>A</td><td>2</td></tr>\n",
       "\t<tr><td>Apple    </td><td>A or B or C</td><td>A</td><td>2</td></tr>\n",
       "\t<tr><td>Apple    </td><td>A or B or C</td><td>A</td><td>2</td></tr>\n",
       "\t<tr><td>iPhone   </td><td>A          </td><td>-</td><td>0</td></tr>\n",
       "\t<tr><td>Nutrition</td><td>B          </td><td>B</td><td>1</td></tr>\n",
       "\t<tr><td>Nutrition</td><td>B          </td><td>B</td><td>1</td></tr>\n",
       "\t<tr><td>iPhone   </td><td>A          </td><td>-</td><td>0</td></tr>\n",
       "\t<tr><td>Nutrition</td><td>B          </td><td>B</td><td>1</td></tr>\n",
       "\t<tr><td>iPhone   </td><td>A          </td><td>-</td><td>0</td></tr>\n",
       "\t<tr><td>iPhone   </td><td>A          </td><td>-</td><td>0</td></tr>\n",
       "\t<tr><td>Nutrition</td><td>B          </td><td>B</td><td>1</td></tr>\n",
       "</tbody>\n",
       "</table>\n"
      ],
      "text/latex": [
       "A data.frame: 12 × 4\n",
       "\\begin{tabular}{llll}\n",
       " Search & Match & Choice & Revenue\\\\\n",
       " <chr> & <chr> & <chr> & <dbl>\\\\\n",
       "\\hline\n",
       "\t Apple     & A or B or C & A & 2\\\\\n",
       "\t Apple     & A or B or C & A & 2\\\\\n",
       "\t Apple     & A or B or C & A & 2\\\\\n",
       "\t Apple     & A or B or C & A & 2\\\\\n",
       "\t iPhone    & A           & - & 0\\\\\n",
       "\t Nutrition & B           & B & 1\\\\\n",
       "\t Nutrition & B           & B & 1\\\\\n",
       "\t iPhone    & A           & - & 0\\\\\n",
       "\t Nutrition & B           & B & 1\\\\\n",
       "\t iPhone    & A           & - & 0\\\\\n",
       "\t iPhone    & A           & - & 0\\\\\n",
       "\t Nutrition & B           & B & 1\\\\\n",
       "\\end{tabular}\n"
      ],
      "text/markdown": [
       "\n",
       "A data.frame: 12 × 4\n",
       "\n",
       "| Search &lt;chr&gt; | Match &lt;chr&gt; | Choice &lt;chr&gt; | Revenue &lt;dbl&gt; |\n",
       "|---|---|---|---|\n",
       "| Apple     | A or B or C | A | 2 |\n",
       "| Apple     | A or B or C | A | 2 |\n",
       "| Apple     | A or B or C | A | 2 |\n",
       "| Apple     | A or B or C | A | 2 |\n",
       "| iPhone    | A           | - | 0 |\n",
       "| Nutrition | B           | B | 1 |\n",
       "| Nutrition | B           | B | 1 |\n",
       "| iPhone    | A           | - | 0 |\n",
       "| Nutrition | B           | B | 1 |\n",
       "| iPhone    | A           | - | 0 |\n",
       "| iPhone    | A           | - | 0 |\n",
       "| Nutrition | B           | B | 1 |\n",
       "\n"
      ],
      "text/plain": [
       "   Search    Match       Choice Revenue\n",
       "1  Apple     A or B or C A      2      \n",
       "2  Apple     A or B or C A      2      \n",
       "3  Apple     A or B or C A      2      \n",
       "4  Apple     A or B or C A      2      \n",
       "5  iPhone    A           -      0      \n",
       "6  Nutrition B           B      1      \n",
       "7  Nutrition B           B      1      \n",
       "8  iPhone    A           -      0      \n",
       "9  Nutrition B           B      1      \n",
       "10 iPhone    A           -      0      \n",
       "11 iPhone    A           -      0      \n",
       "12 Nutrition B           B      1      "
      ]
     },
     "metadata": {},
     "output_type": "display_data"
    }
   ],
   "source": [
    "# Greedy Algorithm results\n",
    "ResultDF"
   ]
  },
  {
   "cell_type": "code",
   "execution_count": 82,
   "metadata": {},
   "outputs": [
    {
     "data": {
      "text/html": [
       "12"
      ],
      "text/latex": [
       "12"
      ],
      "text/markdown": [
       "12"
      ],
      "text/plain": [
       "[1] 12"
      ]
     },
     "metadata": {},
     "output_type": "display_data"
    }
   ],
   "source": [
    "# Greedy Algorithm payoff\n",
    "Payoff"
   ]
  },
  {
   "cell_type": "markdown",
   "metadata": {},
   "source": [
    "As we can see, the payoff is lower than the _Offline Algorithm_. The Competitive Ratio (or CR) of the _Greedy Algorithm_ is its payoff divided by the optimum payoff, €12 / €20 or 0.6.\n",
    "\n",
    "The reason for this lower payoff is the fact that only targeting the highest bid possible, the _Greedy Algorithm_ does not care about the advertiser’s budget. In our case, “A” ran out of funds quickly and the next eligible queries were not able to be allocated to it. In the end, we have unfulfilled queries and unused budget."
   ]
  },
  {
   "cell_type": "code",
   "execution_count": 83,
   "metadata": {},
   "outputs": [
    {
     "data": {
      "image/png": "[encoded data removed]",
      "text/plain": [
       "Plot with title “ Greedy Algorithm”"
      ]
     },
     "metadata": {
      "image/png": {
       "height": 420,
       "width": 420
      }
     },
     "output_type": "display_data"
    }
   ],
   "source": [
    "# Plot remain budget for Greedy Algorithm\n",
    "remainBudget <- c(unique(adwordsDF$Budget[adwordsDF$Advertiser==\"A\"]),unique(adwordsDF$Budget[adwordsDF$Advertiser==\"B\"]),unique(adwordsDF$Budget[adwordsDF$Advertiser==\"C\"]))\n",
    "barplot(remainBudget,main=\" Greedy Algorithm\",xlab=\"Advertiser\",ylab=\"Remaining Budget\",names.arg=c(\"A\",\"B\",\"C\"),col=c(\"red\",\"green\",\"blue\"),ylim=c(0,10))\n",
    "legend(\"topleft\", legend=c(\"A\",\"B\",\"C\"),fill=c(\"red\",\"green\",\"blue\"),bty = \"n\",horiz=TRUE)"
   ]
  },
  {
   "cell_type": "markdown",
   "metadata": {},
   "source": [
    "## Balance algorithm\n",
    "\n",
    "To increase the CR, we may use an algorithm that considers not the highest bids, but the advertiser’s available budget, that is, the _Balance Algorithm_. Again, all bid ties are broken alphabetically and in a deterministic way. Below are the results using the _Balance Algorithm_."
   ]
  },
  {
   "cell_type": "code",
   "execution_count": 84,
   "metadata": {},
   "outputs": [
    {
     "name": "stderr",
     "output_type": "stream",
     "text": [
      "Warning message in max(BudgetSubset$Budget):\n",
      "“no non-missing arguments to max; returning -Inf”\n",
      "Warning message in max(BudgetSubset$Budget):\n",
      "“no non-missing arguments to max; returning -Inf”\n"
     ]
    }
   ],
   "source": [
    "# Create budgets for each advertiser\n",
    "adwordsDF$Budget <- 0\n",
    "adwordsDF$Budget[adwordsDF$Advertiser==\"A\"] <- 8\n",
    "adwordsDF$Budget[adwordsDF$Advertiser==\"B\"] <- 4\n",
    "adwordsDF$Budget[adwordsDF$Advertiser==\"C\"] <- 8\n",
    "\n",
    "# Define payoff\n",
    "Payoff <- 0\n",
    "\n",
    "# Create dataframe to save results\n",
    "ResultDF <- data.frame(Search=character(),Match=character(),Choice=character(),Revenue=numeric(),stringsAsFactors=FALSE)\n",
    "\n",
    "## Balance Algorithm ##\n",
    "\n",
    "for(i in searchQueries){\n",
    "  # find matching bid to search query\n",
    "  MatchSubset <- adwordsDF[adwordsDF$SearchTerm==i,]\n",
    "  # Only keep advertisers with enough budget left\n",
    "  BudgetSubset <- MatchSubset[MatchSubset$Budget>=MatchSubset$Bids,]\n",
    "  # Only keep bids with highest budget\n",
    "  HighestBD <- BudgetSubset[BudgetSubset$Budget==max(BudgetSubset$Budget),]\n",
    "  \n",
    "  if (is.na(HighestBD$Advertiser[1])){\n",
    "    ResultDF <- rbind(ResultDF,data.frame(Search=i,Match=paste(MatchSubset$Advertiser,collapse=\" or \"), Choice=\"-\",Revenue=0))\n",
    "    \n",
    "  }else{\n",
    "    # Rule of multiple advertisers have the highest ER for search query\n",
    "    indexing <- adwordsDF$Advertiser==HighestBD$Advertiser[1]\n",
    "    adwordsDF$Budget[indexing] <- adwordsDF$Budget[indexing]-HighestBD$Bids[1]\n",
    "    Payoff <- Payoff+HighestBD$Bids[1]\n",
    "    ResultDF <- rbind(ResultDF,data.frame(Search=i,Match=paste(MatchSubset$Advertiser,collapse=\" or \"), Choice=HighestBD$Advertiser[1],Revenue=HighestBD$Bids[1]))\n",
    "  }\n",
    "}"
   ]
  },
  {
   "cell_type": "code",
   "execution_count": 85,
   "metadata": {},
   "outputs": [
    {
     "data": {
      "text/html": [
       "<table>\n",
       "<caption>A data.frame: 12 × 4</caption>\n",
       "<thead>\n",
       "\t<tr><th scope=col>Search</th><th scope=col>Match</th><th scope=col>Choice</th><th scope=col>Revenue</th></tr>\n",
       "\t<tr><th scope=col>&lt;chr&gt;</th><th scope=col>&lt;chr&gt;</th><th scope=col>&lt;chr&gt;</th><th scope=col>&lt;dbl&gt;</th></tr>\n",
       "</thead>\n",
       "<tbody>\n",
       "\t<tr><td>Apple    </td><td>A or B or C</td><td>A</td><td>2</td></tr>\n",
       "\t<tr><td>Apple    </td><td>A or B or C</td><td>C</td><td>2</td></tr>\n",
       "\t<tr><td>Apple    </td><td>A or B or C</td><td>A</td><td>2</td></tr>\n",
       "\t<tr><td>Apple    </td><td>A or B or C</td><td>C</td><td>2</td></tr>\n",
       "\t<tr><td>iPhone   </td><td>A          </td><td>A</td><td>2</td></tr>\n",
       "\t<tr><td>Nutrition</td><td>B          </td><td>B</td><td>1</td></tr>\n",
       "\t<tr><td>Nutrition</td><td>B          </td><td>B</td><td>1</td></tr>\n",
       "\t<tr><td>iPhone   </td><td>A          </td><td>A</td><td>2</td></tr>\n",
       "\t<tr><td>Nutrition</td><td>B          </td><td>B</td><td>1</td></tr>\n",
       "\t<tr><td>iPhone   </td><td>A          </td><td>-</td><td>0</td></tr>\n",
       "\t<tr><td>iPhone   </td><td>A          </td><td>-</td><td>0</td></tr>\n",
       "\t<tr><td>Nutrition</td><td>B          </td><td>B</td><td>1</td></tr>\n",
       "</tbody>\n",
       "</table>\n"
      ],
      "text/latex": [
       "A data.frame: 12 × 4\n",
       "\\begin{tabular}{llll}\n",
       " Search & Match & Choice & Revenue\\\\\n",
       " <chr> & <chr> & <chr> & <dbl>\\\\\n",
       "\\hline\n",
       "\t Apple     & A or B or C & A & 2\\\\\n",
       "\t Apple     & A or B or C & C & 2\\\\\n",
       "\t Apple     & A or B or C & A & 2\\\\\n",
       "\t Apple     & A or B or C & C & 2\\\\\n",
       "\t iPhone    & A           & A & 2\\\\\n",
       "\t Nutrition & B           & B & 1\\\\\n",
       "\t Nutrition & B           & B & 1\\\\\n",
       "\t iPhone    & A           & A & 2\\\\\n",
       "\t Nutrition & B           & B & 1\\\\\n",
       "\t iPhone    & A           & - & 0\\\\\n",
       "\t iPhone    & A           & - & 0\\\\\n",
       "\t Nutrition & B           & B & 1\\\\\n",
       "\\end{tabular}\n"
      ],
      "text/markdown": [
       "\n",
       "A data.frame: 12 × 4\n",
       "\n",
       "| Search &lt;chr&gt; | Match &lt;chr&gt; | Choice &lt;chr&gt; | Revenue &lt;dbl&gt; |\n",
       "|---|---|---|---|\n",
       "| Apple     | A or B or C | A | 2 |\n",
       "| Apple     | A or B or C | C | 2 |\n",
       "| Apple     | A or B or C | A | 2 |\n",
       "| Apple     | A or B or C | C | 2 |\n",
       "| iPhone    | A           | A | 2 |\n",
       "| Nutrition | B           | B | 1 |\n",
       "| Nutrition | B           | B | 1 |\n",
       "| iPhone    | A           | A | 2 |\n",
       "| Nutrition | B           | B | 1 |\n",
       "| iPhone    | A           | - | 0 |\n",
       "| iPhone    | A           | - | 0 |\n",
       "| Nutrition | B           | B | 1 |\n",
       "\n"
      ],
      "text/plain": [
       "   Search    Match       Choice Revenue\n",
       "1  Apple     A or B or C A      2      \n",
       "2  Apple     A or B or C C      2      \n",
       "3  Apple     A or B or C A      2      \n",
       "4  Apple     A or B or C C      2      \n",
       "5  iPhone    A           A      2      \n",
       "6  Nutrition B           B      1      \n",
       "7  Nutrition B           B      1      \n",
       "8  iPhone    A           A      2      \n",
       "9  Nutrition B           B      1      \n",
       "10 iPhone    A           -      0      \n",
       "11 iPhone    A           -      0      \n",
       "12 Nutrition B           B      1      "
      ]
     },
     "metadata": {},
     "output_type": "display_data"
    }
   ],
   "source": [
    "ResultDF"
   ]
  },
  {
   "cell_type": "code",
   "execution_count": 86,
   "metadata": {},
   "outputs": [
    {
     "data": {
      "text/html": [
       "16"
      ],
      "text/latex": [
       "16"
      ],
      "text/markdown": [
       "16"
      ],
      "text/plain": [
       "[1] 16"
      ]
     },
     "metadata": {},
     "output_type": "display_data"
    }
   ],
   "source": [
    "Payoff"
   ]
  },
  {
   "cell_type": "markdown",
   "metadata": {},
   "source": [
    "The _Balance Algorithm_ payoff is €16 and its CR is 0.8. An improvement compared with the _Greedy Algorithm_. The second and fourth queries are assigned to “C” which made the budget available to “A” afterward to avoid unallocated queries like in the _Greedy Algorithm_. Nevertheless, it is still below the optimal solution. By looking exclusively at the advertiser’s budget, the _Balance Algorithm_ may miss opportunities for higher revenues in some queries. This did not occur in our example, but it is a major drawback of the _Balance Algorithm_. Still, the _Balance Algorithm_ did not make use of all budgets."
   ]
  },
  {
   "cell_type": "code",
   "execution_count": 87,
   "metadata": {},
   "outputs": [
    {
     "data": {
      "image/png": "[encoded data removed]",
      "text/plain": [
       "Plot with title “Balance Algorithm”"
      ]
     },
     "metadata": {
      "image/png": {
       "height": 420,
       "width": 420
      }
     },
     "output_type": "display_data"
    }
   ],
   "source": [
    "# Plot remain budget for Balance Algorithm\n",
    "remainBudget <- c(unique(adwordsDF$Budget[adwordsDF$Advertiser==\"A\"]),unique(adwordsDF$Budget[adwordsDF$Advertiser==\"B\"]),unique(adwordsDF$Budget[adwordsDF$Advertiser==\"C\"]))\n",
    "barplot(remainBudget,main=\"Balance Algorithm\",xlab=\"Advertiser\",ylab=\"Remaining Budget\",names.arg=c(\"A\",\"B\",\"C\"),col=c(\"red\",\"green\",\"blue\"),ylim=c(0,10))\n",
    "legend(\"topleft\", legend=c(\"A\",\"B\",\"C\"),fill=c(\"red\",\"green\",\"blue\"),bty = \"n\",horiz=TRUE)"
   ]
  },
  {
   "cell_type": "markdown",
   "metadata": {},
   "source": [
    "Suppose now that “B” has a budget of €20 and “C” a budget of €18 (“A” budget remains the same, i.e., €8). Using the same _Balance Algorithm_, we got the following results."
   ]
  },
  {
   "cell_type": "code",
   "execution_count": 88,
   "metadata": {},
   "outputs": [],
   "source": [
    "# Create budgets for each advertiser\n",
    "adwordsDF$Budget <- 0\n",
    "adwordsDF$Budget[adwordsDF$Advertiser==\"A\"] <- 8\n",
    "adwordsDF$Budget[adwordsDF$Advertiser==\"B\"] <- 20\n",
    "adwordsDF$Budget[adwordsDF$Advertiser==\"C\"] <- 18\n",
    "\n",
    "# Define payoff\n",
    "Payoff <- 0\n",
    "\n",
    "# Create dataframe to save results\n",
    "ResultDF <- data.frame(Search=character(),Match=character(),Choice=character(),Revenue=numeric(),stringsAsFactors=FALSE)\n",
    "\n",
    "# Balance Algorithm\n",
    "\n",
    "for(i in searchQueries){\n",
    "  # find matching bid to search query\n",
    "  MatchSubset <- adwordsDF[adwordsDF$SearchTerm==i,]\n",
    "  # Only keep advertisers with enough budget left\n",
    "  BudgetSubset <- MatchSubset[MatchSubset$Budget>=MatchSubset$Bids,]\n",
    "  # Only keep bids with highest budget\n",
    "  HighestBD <- BudgetSubset[BudgetSubset$Budget==max(BudgetSubset$Budget),]\n",
    "  \n",
    "  if (is.na(HighestBD$Advertiser[1])){\n",
    "    ResultDF <- rbind(ResultDF,data.frame(Search=i,Match=paste(MatchSubset$Advertiser,collapse=\" or \"), Choice=\"-\",Revenue=0))\n",
    "    \n",
    "  }else{\n",
    "    # Rule of multiple advertisers have the highest ER for search query\n",
    "    indexing <- adwordsDF$Advertiser==HighestBD$Advertiser[1]\n",
    "    adwordsDF$Budget[indexing] <- adwordsDF$Budget[indexing]-HighestBD$Bids[1]\n",
    "    Payoff <- Payoff+HighestBD$Bids[1]\n",
    "    ResultDF <- rbind(ResultDF,data.frame(Search=i,Match=paste(MatchSubset$Advertiser,collapse=\" or \"), Choice=HighestBD$Advertiser[1],Revenue=HighestBD$Bids[1]))\n",
    "  }\n",
    "}"
   ]
  },
  {
   "cell_type": "code",
   "execution_count": 89,
   "metadata": {},
   "outputs": [
    {
     "data": {
      "text/html": [
       "<table>\n",
       "<caption>A data.frame: 12 × 4</caption>\n",
       "<thead>\n",
       "\t<tr><th scope=col>Search</th><th scope=col>Match</th><th scope=col>Choice</th><th scope=col>Revenue</th></tr>\n",
       "\t<tr><th scope=col>&lt;chr&gt;</th><th scope=col>&lt;chr&gt;</th><th scope=col>&lt;chr&gt;</th><th scope=col>&lt;dbl&gt;</th></tr>\n",
       "</thead>\n",
       "<tbody>\n",
       "\t<tr><td>Apple    </td><td>A or B or C</td><td>B</td><td>1</td></tr>\n",
       "\t<tr><td>Apple    </td><td>A or B or C</td><td>B</td><td>1</td></tr>\n",
       "\t<tr><td>Apple    </td><td>A or B or C</td><td>B</td><td>1</td></tr>\n",
       "\t<tr><td>Apple    </td><td>A or B or C</td><td>C</td><td>2</td></tr>\n",
       "\t<tr><td>iPhone   </td><td>A          </td><td>A</td><td>2</td></tr>\n",
       "\t<tr><td>Nutrition</td><td>B          </td><td>B</td><td>1</td></tr>\n",
       "\t<tr><td>Nutrition</td><td>B          </td><td>B</td><td>1</td></tr>\n",
       "\t<tr><td>iPhone   </td><td>A          </td><td>A</td><td>2</td></tr>\n",
       "\t<tr><td>Nutrition</td><td>B          </td><td>B</td><td>1</td></tr>\n",
       "\t<tr><td>iPhone   </td><td>A          </td><td>A</td><td>2</td></tr>\n",
       "\t<tr><td>iPhone   </td><td>A          </td><td>A</td><td>2</td></tr>\n",
       "\t<tr><td>Nutrition</td><td>B          </td><td>B</td><td>1</td></tr>\n",
       "</tbody>\n",
       "</table>\n"
      ],
      "text/latex": [
       "A data.frame: 12 × 4\n",
       "\\begin{tabular}{llll}\n",
       " Search & Match & Choice & Revenue\\\\\n",
       " <chr> & <chr> & <chr> & <dbl>\\\\\n",
       "\\hline\n",
       "\t Apple     & A or B or C & B & 1\\\\\n",
       "\t Apple     & A or B or C & B & 1\\\\\n",
       "\t Apple     & A or B or C & B & 1\\\\\n",
       "\t Apple     & A or B or C & C & 2\\\\\n",
       "\t iPhone    & A           & A & 2\\\\\n",
       "\t Nutrition & B           & B & 1\\\\\n",
       "\t Nutrition & B           & B & 1\\\\\n",
       "\t iPhone    & A           & A & 2\\\\\n",
       "\t Nutrition & B           & B & 1\\\\\n",
       "\t iPhone    & A           & A & 2\\\\\n",
       "\t iPhone    & A           & A & 2\\\\\n",
       "\t Nutrition & B           & B & 1\\\\\n",
       "\\end{tabular}\n"
      ],
      "text/markdown": [
       "\n",
       "A data.frame: 12 × 4\n",
       "\n",
       "| Search &lt;chr&gt; | Match &lt;chr&gt; | Choice &lt;chr&gt; | Revenue &lt;dbl&gt; |\n",
       "|---|---|---|---|\n",
       "| Apple     | A or B or C | B | 1 |\n",
       "| Apple     | A or B or C | B | 1 |\n",
       "| Apple     | A or B or C | B | 1 |\n",
       "| Apple     | A or B or C | C | 2 |\n",
       "| iPhone    | A           | A | 2 |\n",
       "| Nutrition | B           | B | 1 |\n",
       "| Nutrition | B           | B | 1 |\n",
       "| iPhone    | A           | A | 2 |\n",
       "| Nutrition | B           | B | 1 |\n",
       "| iPhone    | A           | A | 2 |\n",
       "| iPhone    | A           | A | 2 |\n",
       "| Nutrition | B           | B | 1 |\n",
       "\n"
      ],
      "text/plain": [
       "   Search    Match       Choice Revenue\n",
       "1  Apple     A or B or C B      1      \n",
       "2  Apple     A or B or C B      1      \n",
       "3  Apple     A or B or C B      1      \n",
       "4  Apple     A or B or C C      2      \n",
       "5  iPhone    A           A      2      \n",
       "6  Nutrition B           B      1      \n",
       "7  Nutrition B           B      1      \n",
       "8  iPhone    A           A      2      \n",
       "9  Nutrition B           B      1      \n",
       "10 iPhone    A           A      2      \n",
       "11 iPhone    A           A      2      \n",
       "12 Nutrition B           B      1      "
      ]
     },
     "metadata": {},
     "output_type": "display_data"
    }
   ],
   "source": [
    "ResultDF"
   ]
  },
  {
   "cell_type": "code",
   "execution_count": 90,
   "metadata": {},
   "outputs": [
    {
     "data": {
      "text/html": [
       "17"
      ],
      "text/latex": [
       "17"
      ],
      "text/markdown": [
       "17"
      ],
      "text/plain": [
       "[1] 17"
      ]
     },
     "metadata": {},
     "output_type": "display_data"
    }
   ],
   "source": [
    "Payoff"
   ]
  },
  {
   "cell_type": "markdown",
   "metadata": {},
   "source": [
    "This time the payoff increased to €17 since there are no unallocated queries like in the last result. Allocation is a little bit different from the previous one and the main drawback of the _Balance Algorithm_ is present: first, the second and third query was allocated to “B” (instead of “A” – higher bid) because of the higher budget of “B”."
   ]
  },
  {
   "cell_type": "code",
   "execution_count": 91,
   "metadata": {},
   "outputs": [
    {
     "data": {
      "image/png": "[encoded data removed]",
      "text/plain": [
       "Plot with title “Balance Algorithm”"
      ]
     },
     "metadata": {
      "image/png": {
       "height": 420,
       "width": 420
      }
     },
     "output_type": "display_data"
    }
   ],
   "source": [
    "# Plot remain budget for Balance Algorithm\n",
    "remainBudget <- c(unique(adwordsDF$Budget[adwordsDF$Advertiser==\"A\"]),unique(adwordsDF$Budget[adwordsDF$Advertiser==\"B\"]),unique(adwordsDF$Budget[adwordsDF$Advertiser==\"C\"]))\n",
    "barplot(remainBudget,main=\"Balance Algorithm\",xlab=\"Advertiser\",ylab=\"Remaining Budget\",names.arg=c(\"A\",\"B\",\"C\"),col=c(\"red\",\"green\",\"blue\"),ylim=c(0,20))\n",
    "legend(\"topleft\", legend=c(\"A\",\"B\",\"C\"),fill=c(\"red\",\"green\",\"blue\"),bty = \"n\",horiz=TRUE)"
   ]
  },
  {
   "cell_type": "markdown",
   "metadata": {},
   "source": [
    "In the end, besides having a higher payoff, the total of unused budgets is larger (€29 compared to €4) which is may be an indication of revenue lost."
   ]
  },
  {
   "cell_type": "markdown",
   "metadata": {},
   "source": [
    "## Generalized Balance Algorithm\n",
    "\n",
    "The _Generalized Balance Algorithm_ is a hybrid solution between the _Greedy Algorithm_ and the _Balance Algorithm_. It considers both the value of the bid and the advertiser’s budget. This is done by computing and selecting the highest value of a function which accounts for the two criteria.          \n",
    "<br>\n",
    "<a href=\"https://www.codecogs.com/eqnedit.php?latex=\\psi&space;_{i}\\left(q\\right)&space;=x_{i}\\left(1-e^{f_{i}}\\right)\" target=\"_blank\"><img src=\"https://latex.codecogs.com/gif.latex?\\psi&space;_{i}\\left(q\\right)&space;=x_{i}\\left(1-e^{f_{i}}\\right)\" title=\"\\psi _{i}\\left(q\\right) =x_{i}\\left(1-e^{f_{i}}\\right)\" /></a>\n",
    "where:\n",
    "* $q$ means _query_\n",
    "* $x_{i}$ means _bid value of bidder i_\n",
    "* $f_{i}$ means _fraction of budget left over_"
   ]
  },
  {
   "cell_type": "code",
   "execution_count": 92,
   "metadata": {},
   "outputs": [
    {
     "name": "stderr",
     "output_type": "stream",
     "text": [
      "Warning message in max(psi):\n",
      "“no non-missing arguments to max; returning -Inf”\n"
     ]
    }
   ],
   "source": [
    "# Create budgets for each advertiser\n",
    "adwordsDF$Budget <- 0\n",
    "adwordsDF$Budget[adwordsDF$Advertiser==\"A\"] <- 8\n",
    "adwordsDF$Budget[adwordsDF$Advertiser==\"B\"] <- 20\n",
    "adwordsDF$Budget[adwordsDF$Advertiser==\"C\"] <- 18\n",
    "\n",
    "adwordsDF$InitBudget <- 0\n",
    "adwordsDF$InitBudget[adwordsDF$Advertiser==\"A\"] <- 8\n",
    "adwordsDF$InitBudget[adwordsDF$Advertiser==\"B\"] <- 20\n",
    "adwordsDF$InitBudget[adwordsDF$Advertiser==\"C\"] <- 18\n",
    "\n",
    "# Define payoff\n",
    "Payoff <- 0\n",
    "\n",
    "# Create dataframe to save results\n",
    "ResultDF <- data.frame(Search=character(),Match=character(),Choice=character(),Revenue=numeric(),stringsAsFactors=FALSE)\n",
    "\n",
    "# Generalized Balance Algorithm\n",
    "\n",
    "for(i in searchQueries){\n",
    "  # find matching bid to search query\n",
    "  MatchSubset <- adwordsDF[adwordsDF$SearchTerm==i,]\n",
    "  # Only keep advertisers with enough budget left\n",
    "  BudgetSubset <- MatchSubset[MatchSubset$Budget>=MatchSubset$Bids,]\n",
    "  # Only keep bids with highest Psi function value\n",
    "  psi <- BudgetSubset$Bids*(1-exp(-BudgetSubset$Budget/BudgetSubset$InitBudget))\n",
    "  HighestPSI <- BudgetSubset[psi==max(psi),]\n",
    "  \n",
    "  if (is.na(HighestPSI$Advertiser[1])){\n",
    "    ResultDF <- rbind(ResultDF,data.frame(Search=i,Match=paste(MatchSubset$Advertiser,collapse=\" or \"), Choice=\"-\",Revenue=0))\n",
    "    \n",
    "  }else{\n",
    "    # Rule of multiple advertisers have the highest ER for search query\n",
    "    indexing <- adwordsDF$Advertiser==HighestPSI$Advertiser[1]\n",
    "    adwordsDF$Budget[indexing] <- adwordsDF$Budget[indexing]-HighestPSI$Bids[1]\n",
    "    Payoff <- Payoff+HighestPSI$Bids[1]\n",
    "    ResultDF <- rbind(ResultDF,data.frame(Search=i,Match=paste(MatchSubset$Advertiser,collapse=\" or \"), Choice=HighestPSI$Advertiser[1],Revenue=HighestPSI$Bids[1]))\n",
    "  }\n",
    "}"
   ]
  },
  {
   "cell_type": "code",
   "execution_count": 93,
   "metadata": {},
   "outputs": [
    {
     "data": {
      "text/html": [
       "<table>\n",
       "<caption>A data.frame: 12 × 4</caption>\n",
       "<thead>\n",
       "\t<tr><th scope=col>Search</th><th scope=col>Match</th><th scope=col>Choice</th><th scope=col>Revenue</th></tr>\n",
       "\t<tr><th scope=col>&lt;chr&gt;</th><th scope=col>&lt;chr&gt;</th><th scope=col>&lt;chr&gt;</th><th scope=col>&lt;dbl&gt;</th></tr>\n",
       "</thead>\n",
       "<tbody>\n",
       "\t<tr><td>Apple    </td><td>A or B or C</td><td>A</td><td>2</td></tr>\n",
       "\t<tr><td>Apple    </td><td>A or B or C</td><td>C</td><td>2</td></tr>\n",
       "\t<tr><td>Apple    </td><td>A or B or C</td><td>C</td><td>2</td></tr>\n",
       "\t<tr><td>Apple    </td><td>A or B or C</td><td>C</td><td>2</td></tr>\n",
       "\t<tr><td>iPhone   </td><td>A          </td><td>A</td><td>2</td></tr>\n",
       "\t<tr><td>Nutrition</td><td>B          </td><td>B</td><td>1</td></tr>\n",
       "\t<tr><td>Nutrition</td><td>B          </td><td>B</td><td>1</td></tr>\n",
       "\t<tr><td>iPhone   </td><td>A          </td><td>A</td><td>2</td></tr>\n",
       "\t<tr><td>Nutrition</td><td>B          </td><td>B</td><td>1</td></tr>\n",
       "\t<tr><td>iPhone   </td><td>A          </td><td>A</td><td>2</td></tr>\n",
       "\t<tr><td>iPhone   </td><td>A          </td><td>-</td><td>0</td></tr>\n",
       "\t<tr><td>Nutrition</td><td>B          </td><td>B</td><td>1</td></tr>\n",
       "</tbody>\n",
       "</table>\n"
      ],
      "text/latex": [
       "A data.frame: 12 × 4\n",
       "\\begin{tabular}{llll}\n",
       " Search & Match & Choice & Revenue\\\\\n",
       " <chr> & <chr> & <chr> & <dbl>\\\\\n",
       "\\hline\n",
       "\t Apple     & A or B or C & A & 2\\\\\n",
       "\t Apple     & A or B or C & C & 2\\\\\n",
       "\t Apple     & A or B or C & C & 2\\\\\n",
       "\t Apple     & A or B or C & C & 2\\\\\n",
       "\t iPhone    & A           & A & 2\\\\\n",
       "\t Nutrition & B           & B & 1\\\\\n",
       "\t Nutrition & B           & B & 1\\\\\n",
       "\t iPhone    & A           & A & 2\\\\\n",
       "\t Nutrition & B           & B & 1\\\\\n",
       "\t iPhone    & A           & A & 2\\\\\n",
       "\t iPhone    & A           & - & 0\\\\\n",
       "\t Nutrition & B           & B & 1\\\\\n",
       "\\end{tabular}\n"
      ],
      "text/markdown": [
       "\n",
       "A data.frame: 12 × 4\n",
       "\n",
       "| Search &lt;chr&gt; | Match &lt;chr&gt; | Choice &lt;chr&gt; | Revenue &lt;dbl&gt; |\n",
       "|---|---|---|---|\n",
       "| Apple     | A or B or C | A | 2 |\n",
       "| Apple     | A or B or C | C | 2 |\n",
       "| Apple     | A or B or C | C | 2 |\n",
       "| Apple     | A or B or C | C | 2 |\n",
       "| iPhone    | A           | A | 2 |\n",
       "| Nutrition | B           | B | 1 |\n",
       "| Nutrition | B           | B | 1 |\n",
       "| iPhone    | A           | A | 2 |\n",
       "| Nutrition | B           | B | 1 |\n",
       "| iPhone    | A           | A | 2 |\n",
       "| iPhone    | A           | - | 0 |\n",
       "| Nutrition | B           | B | 1 |\n",
       "\n"
      ],
      "text/plain": [
       "   Search    Match       Choice Revenue\n",
       "1  Apple     A or B or C A      2      \n",
       "2  Apple     A or B or C C      2      \n",
       "3  Apple     A or B or C C      2      \n",
       "4  Apple     A or B or C C      2      \n",
       "5  iPhone    A           A      2      \n",
       "6  Nutrition B           B      1      \n",
       "7  Nutrition B           B      1      \n",
       "8  iPhone    A           A      2      \n",
       "9  Nutrition B           B      1      \n",
       "10 iPhone    A           A      2      \n",
       "11 iPhone    A           -      0      \n",
       "12 Nutrition B           B      1      "
      ]
     },
     "metadata": {},
     "output_type": "display_data"
    }
   ],
   "source": [
    "ResultDF"
   ]
  },
  {
   "cell_type": "code",
   "execution_count": 94,
   "metadata": {},
   "outputs": [
    {
     "data": {
      "text/html": [
       "18"
      ],
      "text/latex": [
       "18"
      ],
      "text/markdown": [
       "18"
      ],
      "text/plain": [
       "[1] 18"
      ]
     },
     "metadata": {},
     "output_type": "display_data"
    }
   ],
   "source": [
    "Payoff"
   ]
  },
  {
   "cell_type": "markdown",
   "metadata": {},
   "source": [
    "So far, it is the best payoff computed, €18. The CR is also the highest: 0.9. Compared with the _Balance Algorithm_, it solves the latter major drawback. For instance, queries 2 and 3 are allocated to “C” (highest bid) instead of “B” (highest budget). Nevertheless, there is room for improvement: query 11 was unallocated due to “A” have already run out of funds. But this result is considered very good since it is only 10<span>%</span> below the optimal solution.\n",
    "\n",
    "Below are the remaining budgets of the _Generalized Balance Algorithm_."
   ]
  },
  {
   "cell_type": "code",
   "execution_count": 95,
   "metadata": {},
   "outputs": [
    {
     "data": {
      "image/png": "[encoded data removed]",
      "text/plain": [
       "Plot with title “Generalized Balance Algorithm”"
      ]
     },
     "metadata": {
      "image/png": {
       "height": 420,
       "width": 420
      }
     },
     "output_type": "display_data"
    }
   ],
   "source": [
    "# Plot remain budget for Generalized Balance Algorithm \n",
    "remainBudget <- c(unique(adwordsDF$Budget[adwordsDF$Advertiser==\"A\"]),unique(adwordsDF$Budget[adwordsDF$Advertiser==\"B\"]),unique(adwordsDF$Budget[adwordsDF$Advertiser==\"C\"]))\n",
    "\n",
    "barplot(remainBudget,main=\"Generalized Balance Algorithm\",xlab=\"Advertiser\",ylab=\"Remaining Budget\",names.arg=c(\"A\",\"B\",\"C\"),col=c(\"red\",\"green\",\"blue\"),ylim=c(0,20))\n",
    "legend(\"topleft\", legend=c(\"A\",\"B\",\"C\"),fill=c(\"red\",\"green\",\"blue\"),bty = \"n\",horiz=TRUE)"
   ]
  },
  {
   "cell_type": "markdown",
   "metadata": {},
   "source": [
    "As we can see, the available resources (budgets) are better utilized with the _Generalized Balance Algorithm_ – €28 compared to €29). “B” (lower bid) has also a larger remain budget than “C” (higher bid)."
   ]
  },
  {
   "cell_type": "markdown",
   "metadata": {},
   "source": [
    "## Conclusion\n",
    "\n",
    "In this project, we explored a relevant mechanism in today’s digital marketing: search advertising. The main challenge of search advertising is matching search queries with relevant web ads to satisfy web surfers and advertisers. A significant amount of money is involved in this kind of marketing and makes millions for search engine companies like Google. In the end, we could test different approaches and compared them to a theoretical benchmark."
   ]
  }
 ],
 "metadata": {
  "kernelspec": {
   "display_name": "R",
   "language": "R",
   "name": "ir"
  },
  "language_info": {
   "codemirror_mode": "r",
   "file_extension": ".r",
   "mimetype": "text/x-r-source",
   "name": "R",
   "pygments_lexer": "r",
   "version": "4.0.3"
  }
 },
 "nbformat": 4,
 "nbformat_minor": 4
}
